{
 "cells": [
  {
   "cell_type": "markdown",
   "metadata": {},
   "source": [
    "# Read in the data"
   ]
  },
  {
   "cell_type": "code",
   "execution_count": 1,
   "metadata": {
    "collapsed": true
   },
   "outputs": [],
   "source": [
    "import pandas\n",
    "import numpy\n",
    "import re\n",
    "\n",
    "data_files = [\n",
    "    \"ap_2010.csv\",\n",
    "    \"class_size.csv\",\n",
    "    \"demographics.csv\",\n",
    "    \"graduation.csv\",\n",
    "    \"hs_directory.csv\",\n",
    "    \"sat_results.csv\"\n",
    "]\n",
    "\n",
    "data = {}\n",
    "\n",
    "for f in data_files:\n",
    "    d = pandas.read_csv(\"schools/{0}\".format(f))\n",
    "    data[f.replace(\".csv\", \"\")] = d"
   ]
  },
  {
   "cell_type": "markdown",
   "metadata": {},
   "source": [
    "# Read in the surveys"
   ]
  },
  {
   "cell_type": "code",
   "execution_count": 2,
   "metadata": {
    "collapsed": true
   },
   "outputs": [],
   "source": [
    "all_survey = pandas.read_csv(\"schools/survey_all.txt\", delimiter=\"\\t\", encoding='windows-1252')\n",
    "d75_survey = pandas.read_csv(\"schools/survey_d75.txt\", delimiter=\"\\t\", encoding='windows-1252')\n",
    "survey = pandas.concat([all_survey, d75_survey], axis=0)\n",
    "\n",
    "survey[\"DBN\"] = survey[\"dbn\"]\n",
    "\n",
    "survey_fields = [\n",
    "    \"DBN\", \n",
    "    \"rr_s\", \n",
    "    \"rr_t\", \n",
    "    \"rr_p\", \n",
    "    \"N_s\", \n",
    "    \"N_t\", \n",
    "    \"N_p\", \n",
    "    \"saf_p_11\", \n",
    "    \"com_p_11\", \n",
    "    \"eng_p_11\", \n",
    "    \"aca_p_11\", \n",
    "    \"saf_t_11\", \n",
    "    \"com_t_11\", \n",
    "    \"eng_t_10\", \n",
    "    \"aca_t_11\", \n",
    "    \"saf_s_11\", \n",
    "    \"com_s_11\", \n",
    "    \"eng_s_11\", \n",
    "    \"aca_s_11\", \n",
    "    \"saf_tot_11\", \n",
    "    \"com_tot_11\", \n",
    "    \"eng_tot_11\", \n",
    "    \"aca_tot_11\",\n",
    "]\n",
    "survey = survey.loc[:,survey_fields]\n",
    "data[\"survey\"] = survey"
   ]
  },
  {
   "cell_type": "code",
   "execution_count": null,
   "metadata": {
    "collapsed": true
   },
   "outputs": [],
   "source": [
    "data['survey'].head(3)"
   ]
  },
  {
   "cell_type": "markdown",
   "metadata": {},
   "source": [
    "# Add DBN columns"
   ]
  },
  {
   "cell_type": "code",
   "execution_count": 42,
   "metadata": {
    "collapsed": false
   },
   "outputs": [
    {
     "data": {
      "text/html": [
       "<div>\n",
       "<table border=\"1\" class=\"dataframe\">\n",
       "  <thead>\n",
       "    <tr style=\"text-align: right;\">\n",
       "      <th></th>\n",
       "      <th>dbn</th>\n",
       "      <th>school_name</th>\n",
       "      <th>boro</th>\n",
       "      <th>building_code</th>\n",
       "      <th>phone_number</th>\n",
       "      <th>fax_number</th>\n",
       "      <th>grade_span_min</th>\n",
       "      <th>grade_span_max</th>\n",
       "      <th>expgrade_span_min</th>\n",
       "      <th>expgrade_span_max</th>\n",
       "      <th>...</th>\n",
       "      <th>priority05</th>\n",
       "      <th>priority06</th>\n",
       "      <th>priority07</th>\n",
       "      <th>priority08</th>\n",
       "      <th>priority09</th>\n",
       "      <th>priority10</th>\n",
       "      <th>Location 1</th>\n",
       "      <th>DBN</th>\n",
       "      <th>lat</th>\n",
       "      <th>lon</th>\n",
       "    </tr>\n",
       "  </thead>\n",
       "  <tbody>\n",
       "    <tr>\n",
       "      <th>0</th>\n",
       "      <td>17K548</td>\n",
       "      <td>Brooklyn School for Music &amp; Theatre</td>\n",
       "      <td>Brooklyn</td>\n",
       "      <td>K440</td>\n",
       "      <td>718-230-6250</td>\n",
       "      <td>718-230-6262</td>\n",
       "      <td>9</td>\n",
       "      <td>12</td>\n",
       "      <td>NaN</td>\n",
       "      <td>NaN</td>\n",
       "      <td>...</td>\n",
       "      <td>NaN</td>\n",
       "      <td>NaN</td>\n",
       "      <td>NaN</td>\n",
       "      <td>NaN</td>\n",
       "      <td>NaN</td>\n",
       "      <td>NaN</td>\n",
       "      <td>883 Classon Avenue\\nBrooklyn, NY 11225\\n(40.67...</td>\n",
       "      <td>17K548</td>\n",
       "      <td>40.670299</td>\n",
       "      <td>-73.961648</td>\n",
       "    </tr>\n",
       "    <tr>\n",
       "      <th>1</th>\n",
       "      <td>09X543</td>\n",
       "      <td>High School for Violin and Dance</td>\n",
       "      <td>Bronx</td>\n",
       "      <td>X400</td>\n",
       "      <td>718-842-0687</td>\n",
       "      <td>718-589-9849</td>\n",
       "      <td>9</td>\n",
       "      <td>12</td>\n",
       "      <td>NaN</td>\n",
       "      <td>NaN</td>\n",
       "      <td>...</td>\n",
       "      <td>NaN</td>\n",
       "      <td>NaN</td>\n",
       "      <td>NaN</td>\n",
       "      <td>NaN</td>\n",
       "      <td>NaN</td>\n",
       "      <td>NaN</td>\n",
       "      <td>1110 Boston Road\\nBronx, NY 10456\\n(40.8276026...</td>\n",
       "      <td>09X543</td>\n",
       "      <td>40.827603</td>\n",
       "      <td>-73.904475</td>\n",
       "    </tr>\n",
       "    <tr>\n",
       "      <th>2</th>\n",
       "      <td>09X327</td>\n",
       "      <td>Comprehensive Model School Project M.S. 327</td>\n",
       "      <td>Bronx</td>\n",
       "      <td>X240</td>\n",
       "      <td>718-294-8111</td>\n",
       "      <td>718-294-8109</td>\n",
       "      <td>6</td>\n",
       "      <td>12</td>\n",
       "      <td>NaN</td>\n",
       "      <td>NaN</td>\n",
       "      <td>...</td>\n",
       "      <td>Then to New York City residents</td>\n",
       "      <td>NaN</td>\n",
       "      <td>NaN</td>\n",
       "      <td>NaN</td>\n",
       "      <td>NaN</td>\n",
       "      <td>NaN</td>\n",
       "      <td>1501 Jerome Avenue\\nBronx, NY 10452\\n(40.84241...</td>\n",
       "      <td>09X327</td>\n",
       "      <td>40.842414</td>\n",
       "      <td>-73.916162</td>\n",
       "    </tr>\n",
       "  </tbody>\n",
       "</table>\n",
       "<p>3 rows × 61 columns</p>\n",
       "</div>"
      ],
      "text/plain": [
       "      dbn                                  school_name      boro  \\\n",
       "0  17K548          Brooklyn School for Music & Theatre  Brooklyn   \n",
       "1  09X543             High School for Violin and Dance     Bronx   \n",
       "2  09X327  Comprehensive Model School Project M.S. 327     Bronx   \n",
       "\n",
       "  building_code  phone_number    fax_number grade_span_min  grade_span_max  \\\n",
       "0          K440  718-230-6250  718-230-6262              9              12   \n",
       "1          X400  718-842-0687  718-589-9849              9              12   \n",
       "2          X240  718-294-8111  718-294-8109              6              12   \n",
       "\n",
       "  expgrade_span_min  expgrade_span_max    ...      \\\n",
       "0               NaN                NaN    ...       \n",
       "1               NaN                NaN    ...       \n",
       "2               NaN                NaN    ...       \n",
       "\n",
       "                        priority05 priority06 priority07 priority08  \\\n",
       "0                              NaN        NaN        NaN        NaN   \n",
       "1                              NaN        NaN        NaN        NaN   \n",
       "2  Then to New York City residents        NaN        NaN        NaN   \n",
       "\n",
       "  priority09  priority10                                         Location 1  \\\n",
       "0        NaN         NaN  883 Classon Avenue\\nBrooklyn, NY 11225\\n(40.67...   \n",
       "1        NaN         NaN  1110 Boston Road\\nBronx, NY 10456\\n(40.8276026...   \n",
       "2        NaN         NaN  1501 Jerome Avenue\\nBronx, NY 10452\\n(40.84241...   \n",
       "\n",
       "      DBN        lat        lon  \n",
       "0  17K548  40.670299 -73.961648  \n",
       "1  09X543  40.827603 -73.904475  \n",
       "2  09X327  40.842414 -73.916162  \n",
       "\n",
       "[3 rows x 61 columns]"
      ]
     },
     "execution_count": 42,
     "metadata": {},
     "output_type": "execute_result"
    }
   ],
   "source": [
    "data[\"hs_directory\"].head(3)"
   ]
  },
  {
   "cell_type": "code",
   "execution_count": 4,
   "metadata": {
    "collapsed": true
   },
   "outputs": [],
   "source": [
    "data[\"hs_directory\"][\"DBN\"] = data[\"hs_directory\"][\"dbn\"]\n",
    "\n",
    "def pad_csd(num):\n",
    "    string_representation = str(num)\n",
    "    if len(string_representation) > 1:\n",
    "        return string_representation\n",
    "    else:\n",
    "        return \"0\" + string_representation\n",
    "    \n",
    "data[\"class_size\"][\"padded_csd\"] = data[\"class_size\"][\"CSD\"].apply(pad_csd)\n",
    "data[\"class_size\"][\"DBN\"] = data[\"class_size\"][\"padded_csd\"] + data[\"class_size\"][\"SCHOOL CODE\"]"
   ]
  },
  {
   "cell_type": "markdown",
   "metadata": {},
   "source": [
    "# Convert columns to numeric"
   ]
  },
  {
   "cell_type": "code",
   "execution_count": 5,
   "metadata": {
    "collapsed": true
   },
   "outputs": [],
   "source": [
    "cols = ['SAT Math Avg. Score', 'SAT Critical Reading Avg. Score', 'SAT Writing Avg. Score']\n",
    "for c in cols:\n",
    "    data[\"sat_results\"][c] = pandas.to_numeric(data[\"sat_results\"][c], errors=\"coerce\")\n",
    "\n",
    "data['sat_results']['sat_score'] = data['sat_results'][cols[0]] + data['sat_results'][cols[1]] + data['sat_results'][cols[2]]\n",
    "\n",
    "def find_lat(loc):\n",
    "    coords = re.findall(\"\\(.+, .+\\)\", loc)\n",
    "    lat = coords[0].split(\",\")[0].replace(\"(\", \"\")\n",
    "    return lat\n",
    "\n",
    "def find_lon(loc):\n",
    "    coords = re.findall(\"\\(.+, .+\\)\", loc)\n",
    "    lon = coords[0].split(\",\")[1].replace(\")\", \"\").strip()\n",
    "    return lon\n",
    "\n",
    "data[\"hs_directory\"][\"lat\"] = data[\"hs_directory\"][\"Location 1\"].apply(find_lat)\n",
    "data[\"hs_directory\"][\"lon\"] = data[\"hs_directory\"][\"Location 1\"].apply(find_lon)\n",
    "\n",
    "data[\"hs_directory\"][\"lat\"] = pandas.to_numeric(data[\"hs_directory\"][\"lat\"], errors=\"coerce\")\n",
    "data[\"hs_directory\"][\"lon\"] = pandas.to_numeric(data[\"hs_directory\"][\"lon\"], errors=\"coerce\")"
   ]
  },
  {
   "cell_type": "markdown",
   "metadata": {},
   "source": [
    "# Condense datasets"
   ]
  },
  {
   "cell_type": "code",
   "execution_count": 6,
   "metadata": {
    "collapsed": true
   },
   "outputs": [],
   "source": [
    "class_size = data[\"class_size\"]\n",
    "class_size = class_size[class_size[\"GRADE \"] == \"09-12\"]\n",
    "class_size = class_size[class_size[\"PROGRAM TYPE\"] == \"GEN ED\"]\n",
    "\n",
    "class_size = class_size.groupby(\"DBN\").agg(numpy.mean)\n",
    "class_size.reset_index(inplace=True)\n",
    "data[\"class_size\"] = class_size\n",
    "\n",
    "data[\"demographics\"] = data[\"demographics\"][data[\"demographics\"][\"schoolyear\"] == 20112012]\n",
    "\n",
    "data[\"graduation\"] = data[\"graduation\"][data[\"graduation\"][\"Cohort\"] == \"2006\"]\n",
    "data[\"graduation\"] = data[\"graduation\"][data[\"graduation\"][\"Demographic\"] == \"Total Cohort\"]"
   ]
  },
  {
   "cell_type": "markdown",
   "metadata": {},
   "source": [
    "# Convert AP scores to numeric"
   ]
  },
  {
   "cell_type": "code",
   "execution_count": 7,
   "metadata": {
    "collapsed": true
   },
   "outputs": [],
   "source": [
    "cols = ['AP Test Takers ', 'Total Exams Taken', 'Number of Exams with scores 3 4 or 5']\n",
    "\n",
    "for col in cols:\n",
    "    data[\"ap_2010\"][col] = pandas.to_numeric(data[\"ap_2010\"][col], errors=\"coerce\")"
   ]
  },
  {
   "cell_type": "markdown",
   "metadata": {},
   "source": [
    "# Combine the datasets"
   ]
  },
  {
   "cell_type": "code",
   "execution_count": 8,
   "metadata": {
    "collapsed": true
   },
   "outputs": [],
   "source": [
    "combined = data[\"sat_results\"]\n",
    "\n",
    "combined = combined.merge(data[\"ap_2010\"], on=\"DBN\", how=\"left\")\n",
    "combined = combined.merge(data[\"graduation\"], on=\"DBN\", how=\"left\")\n",
    "\n",
    "to_merge = [\"class_size\", \"demographics\", \"survey\", \"hs_directory\"]\n",
    "\n",
    "for m in to_merge:\n",
    "    combined = combined.merge(data[m], on=\"DBN\", how=\"inner\")\n",
    "\n",
    "combined = combined.fillna(combined.mean())\n",
    "combined = combined.fillna(0)"
   ]
  },
  {
   "cell_type": "markdown",
   "metadata": {},
   "source": [
    "# Add a school district column for mapping"
   ]
  },
  {
   "cell_type": "code",
   "execution_count": 9,
   "metadata": {
    "collapsed": true
   },
   "outputs": [],
   "source": [
    "def get_first_two_chars(dbn):\n",
    "    return dbn[0:2]\n",
    "\n",
    "combined[\"school_dist\"] = combined[\"DBN\"].apply(get_first_two_chars)"
   ]
  },
  {
   "cell_type": "markdown",
   "metadata": {},
   "source": [
    "# Find correlations"
   ]
  },
  {
   "cell_type": "code",
   "execution_count": 10,
   "metadata": {
    "collapsed": false
   },
   "outputs": [
    {
     "name": "stdout",
     "output_type": "stream",
     "text": [
      "SAT Critical Reading Avg. Score         0.986820\n",
      "SAT Math Avg. Score                     0.972643\n",
      "SAT Writing Avg. Score                  0.987771\n",
      "sat_score                               1.000000\n",
      "AP Test Takers                          0.523140\n",
      "Total Exams Taken                       0.514333\n",
      "Number of Exams with scores 3 4 or 5    0.463245\n",
      "Total Cohort                            0.325144\n",
      "CSD                                     0.042948\n",
      "NUMBER OF STUDENTS / SEATS FILLED       0.394626\n",
      "NUMBER OF SECTIONS                      0.362673\n",
      "AVERAGE CLASS SIZE                      0.381014\n",
      "SIZE OF SMALLEST CLASS                  0.249949\n",
      "SIZE OF LARGEST CLASS                   0.314434\n",
      "SCHOOLWIDE PUPIL-TEACHER RATIO               NaN\n",
      "schoolyear                                   NaN\n",
      "fl_percent                                   NaN\n",
      "frl_percent                            -0.722225\n",
      "total_enrollment                        0.367857\n",
      "ell_num                                -0.153778\n",
      "ell_percent                            -0.398750\n",
      "sped_num                                0.034933\n",
      "sped_percent                           -0.448170\n",
      "asian_num                               0.475445\n",
      "asian_per                               0.570730\n",
      "black_num                               0.027979\n",
      "black_per                              -0.284139\n",
      "hispanic_num                            0.025744\n",
      "hispanic_per                           -0.396985\n",
      "white_num                               0.449559\n",
      "                                          ...   \n",
      "rr_p                                    0.047925\n",
      "N_s                                     0.423463\n",
      "N_t                                     0.291463\n",
      "N_p                                     0.421530\n",
      "saf_p_11                                0.122913\n",
      "com_p_11                               -0.115073\n",
      "eng_p_11                                0.020254\n",
      "aca_p_11                                0.035155\n",
      "saf_t_11                                0.313810\n",
      "com_t_11                                0.082419\n",
      "eng_t_10                                     NaN\n",
      "aca_t_11                                0.132348\n",
      "saf_s_11                                0.337639\n",
      "com_s_11                                0.187370\n",
      "eng_s_11                                0.213822\n",
      "aca_s_11                                0.339435\n",
      "saf_tot_11                              0.318753\n",
      "com_tot_11                              0.077310\n",
      "eng_tot_11                              0.100102\n",
      "aca_tot_11                              0.190966\n",
      "grade_span_max                               NaN\n",
      "expgrade_span_max                            NaN\n",
      "zip                                    -0.063977\n",
      "total_students                          0.407827\n",
      "number_programs                         0.117012\n",
      "priority08                                   NaN\n",
      "priority09                                   NaN\n",
      "priority10                                   NaN\n",
      "lat                                    -0.121029\n",
      "lon                                    -0.132222\n",
      "Name: sat_score, dtype: float64\n"
     ]
    }
   ],
   "source": [
    "correlations = combined.corr()\n",
    "correlations = correlations[\"sat_score\"]\n",
    "print(correlations)"
   ]
  },
  {
   "cell_type": "code",
   "execution_count": 11,
   "metadata": {
    "collapsed": true
   },
   "outputs": [],
   "source": [
    "%matplotlib inline\n",
    "import matplotlib.pyplot as plt"
   ]
  },
  {
   "cell_type": "code",
   "execution_count": 12,
   "metadata": {
    "collapsed": false
   },
   "outputs": [
    {
     "data": {
      "text/plain": [
       "<matplotlib.axes._subplots.AxesSubplot at 0x7f40d3846470>"
      ]
     },
     "execution_count": 12,
     "metadata": {},
     "output_type": "execute_result"
    },
    {
     "data": {
      "image/png": "[encoded data removed]",
      "text/plain": [
       "<matplotlib.figure.Figure at 0x7f40d3846da0>"
      ]
     },
     "metadata": {},
     "output_type": "display_data"
    }
   ],
   "source": [
    "combined.corr()[\"sat_score\"][survey_fields].plot.bar()"
   ]
  },
  {
   "cell_type": "markdown",
   "metadata": {},
   "source": [
    "The correlations between sat_score and survey fields list were plotted. The observations are as follows:\n",
    "\n",
    "1. Communication score based on parent responses have a light negative correlation with the actual SAT score. This is a bit surprising.\n",
    "\n",
    "2. Safer schools tend to produce better students.\n",
    "\n",
    "3. Student expectations are quite strongly correlated with their actual SAT scores."
   ]
  },
  {
   "cell_type": "markdown",
   "metadata": {
    "collapsed": true
   },
   "source": [
    "It may, therefore make sense to explore this safety issue a bit further. All of three of Teacher, Student, Parent safety scores have strong positive correlations with SAT scores"
   ]
  },
  {
   "cell_type": "code",
   "execution_count": 13,
   "metadata": {
    "collapsed": false,
    "scrolled": true
   },
   "outputs": [
    {
     "data": {
      "text/plain": [
       "<matplotlib.axes._subplots.AxesSubplot at 0x7f40d38302e8>"
      ]
     },
     "execution_count": 13,
     "metadata": {},
     "output_type": "execute_result"
    },
    {
     "data": {
      "image/png": "[encoded data removed]",
      "text/plain": [
       "<matplotlib.figure.Figure at 0x7f40d38228d0>"
      ]
     },
     "metadata": {},
     "output_type": "display_data"
    }
   ],
   "source": [
    "combined.plot.scatter(x = 'saf_s_11', y = 'sat_score')"
   ]
  },
  {
   "cell_type": "markdown",
   "metadata": {},
   "source": [
    "Let's assign weighted safety scores to the schools in our dataframe and then filter out the different districts by these average scores. A simple mean calculation will do."
   ]
  },
  {
   "cell_type": "code",
   "execution_count": 14,
   "metadata": {
    "collapsed": true
   },
   "outputs": [],
   "source": [
    "combined['saf_avg_11'] = (combined['saf_s_11'] + combined['saf_t_11'] + combined['saf_p_11'])/3"
   ]
  },
  {
   "cell_type": "code",
   "execution_count": 15,
   "metadata": {
    "collapsed": false
   },
   "outputs": [],
   "source": [
    "import numpy as np\n",
    "\n",
    "districts = combined.groupby('school_dist').agg(np.mean)"
   ]
  },
  {
   "cell_type": "markdown",
   "metadata": {},
   "source": [
    "Plotting these schools on a map of NYC could help us understand any patterns better"
   ]
  },
  {
   "cell_type": "code",
   "execution_count": 16,
   "metadata": {
    "collapsed": false
   },
   "outputs": [],
   "source": [
    "from mpl_toolkits.basemap import Basemap"
   ]
  },
  {
   "cell_type": "code",
   "execution_count": 17,
   "metadata": {
    "collapsed": false
   },
   "outputs": [
    {
     "data": {
      "text/plain": [
       "<matplotlib.collections.PathCollection at 0x7f40d526e9b0>"
      ]
     },
     "execution_count": 17,
     "metadata": {},
     "output_type": "execute_result"
    },
    {
     "data": {
      "image/png": "[encoded data removed]",
      "text/plain": [
       "<matplotlib.figure.Figure at 0x7f40d5067198>"
      ]
     },
     "metadata": {},
     "output_type": "display_data"
    }
   ],
   "source": [
    "m = Basemap(\n",
    "    projection='merc', \n",
    "    llcrnrlat=40.496044, \n",
    "    urcrnrlat=40.915256, \n",
    "    llcrnrlon=-74.255735, \n",
    "    urcrnrlon=-73.700272,\n",
    "    resolution='i'\n",
    ")\n",
    "\n",
    "m.drawmapboundary(fill_color='#85A6D9')\n",
    "m.drawcoastlines(color='#6D5F47', linewidth=.4)\n",
    "m.drawrivers(color='#6D5F47', linewidth=.4)\n",
    "\n",
    "longitudes = districts['lon'].tolist()\n",
    "latitudes = districts['lat'].tolist()\n",
    "\n",
    "m.scatter(longitudes, latitudes, s = 50, zorder = 2, latlon = True, cmap = 'summer', c = districts['saf_avg_11'])"
   ]
  },
  {
   "cell_type": "markdown",
   "metadata": {},
   "source": [
    "Upper Manhattan seems to be the most unsafe. Staten Island, parts of Queens and The Bronx are unsafe too. Brooklyn seems to be the safest area. Most yellow points to higher safety scores, and most green to lower."
   ]
  },
  {
   "cell_type": "code",
   "execution_count": 18,
   "metadata": {
    "collapsed": false
   },
   "outputs": [
    {
     "data": {
      "text/plain": [
       "<matplotlib.axes._subplots.AxesSubplot at 0x7f41002b3d68>"
      ]
     },
     "execution_count": 18,
     "metadata": {},
     "output_type": "execute_result"
    },
    {
     "data": {
      "image/png": "[encoded data removed]",
      "text/plain": [
       "<matplotlib.figure.Figure at 0x7f41002b3550>"
      ]
     },
     "metadata": {},
     "output_type": "display_data"
    }
   ],
   "source": [
    "races = ['white_per', 'asian_per', 'black_per', 'hispanic_per']\n",
    "combined.corr()['sat_score'][races].plot.bar()"
   ]
  },
  {
   "cell_type": "markdown",
   "metadata": {},
   "source": [
    "Interesting. Plotting SAT scores across races indicicates strong positive correlations between white and asian kids. Black kids and Hispanic kids perform poorly, generally. Hispanic kids perform the poorest."
   ]
  },
  {
   "cell_type": "code",
   "execution_count": 19,
   "metadata": {
    "collapsed": false
   },
   "outputs": [
    {
     "data": {
      "text/plain": [
       "<matplotlib.axes._subplots.AxesSubplot at 0x7f4100262f60>"
      ]
     },
     "execution_count": 19,
     "metadata": {},
     "output_type": "execute_result"
    },
    {
     "data": {
      "image/png": "[encoded data removed]",
      "text/plain": [
       "<matplotlib.figure.Figure at 0x7f40d3815be0>"
      ]
     },
     "metadata": {},
     "output_type": "display_data"
    }
   ],
   "source": [
    "combined.plot.scatter(x = 'hispanic_per', y = 'sat_score')"
   ]
  },
  {
   "cell_type": "markdown",
   "metadata": {},
   "source": [
    "1. Schools with 100% Hispanic kids perform the poorest in the SAT. As the percentage shrinks, scores rise. This is a strong negative correlation, as we saw previously.\n",
    "\n",
    "2. Schools with around 60% Hispanics tend to perform poorly, while schools with around 10-15% show mixed performance. The strong negative correlation is found in the middle percentages, i.e. 15-60%, where clearly scores fall as Hispanic percentages increase.\n",
    "\n",
    "3. The schools with highest SAT scores have 0-5% Hispanic kids"
   ]
  },
  {
   "cell_type": "markdown",
   "metadata": {},
   "source": [
    "It makes sense to therefore explore schools with a high percentage of Hispanic kids."
   ]
  },
  {
   "cell_type": "code",
   "execution_count": 20,
   "metadata": {
    "collapsed": false
   },
   "outputs": [],
   "source": [
    "hispanic_majority = combined[combined['hispanic_per'] > 80]"
   ]
  },
  {
   "cell_type": "code",
   "execution_count": 21,
   "metadata": {
    "collapsed": false
   },
   "outputs": [
    {
     "data": {
      "text/html": [
       "<div>\n",
       "<table border=\"1\" class=\"dataframe\">\n",
       "  <thead>\n",
       "    <tr style=\"text-align: right;\">\n",
       "      <th></th>\n",
       "      <th>DBN</th>\n",
       "      <th>SCHOOL NAME</th>\n",
       "      <th>Num of SAT Test Takers</th>\n",
       "      <th>SAT Critical Reading Avg. Score</th>\n",
       "      <th>SAT Math Avg. Score</th>\n",
       "      <th>SAT Writing Avg. Score</th>\n",
       "      <th>sat_score</th>\n",
       "      <th>SchoolName</th>\n",
       "      <th>AP Test Takers</th>\n",
       "      <th>Total Exams Taken</th>\n",
       "      <th>...</th>\n",
       "      <th>priority06</th>\n",
       "      <th>priority07</th>\n",
       "      <th>priority08</th>\n",
       "      <th>priority09</th>\n",
       "      <th>priority10</th>\n",
       "      <th>Location 1</th>\n",
       "      <th>lat</th>\n",
       "      <th>lon</th>\n",
       "      <th>school_dist</th>\n",
       "      <th>saf_avg_11</th>\n",
       "    </tr>\n",
       "  </thead>\n",
       "  <tbody>\n",
       "    <tr>\n",
       "      <th>31</th>\n",
       "      <td>02M427</td>\n",
       "      <td>MANHATTAN ACADEMY FOR ARTS &amp; LANGUAGE</td>\n",
       "      <td>s</td>\n",
       "      <td>404.119403</td>\n",
       "      <td>419.656716</td>\n",
       "      <td>399.662687</td>\n",
       "      <td>1223.438806</td>\n",
       "      <td>0</td>\n",
       "      <td>129.028846</td>\n",
       "      <td>197.038462</td>\n",
       "      <td>...</td>\n",
       "      <td>0</td>\n",
       "      <td>0</td>\n",
       "      <td>0</td>\n",
       "      <td>0</td>\n",
       "      <td>0</td>\n",
       "      <td>111 East 33Rd Street\\nNew York, NY 10016\\n(40....</td>\n",
       "      <td>40.746106</td>\n",
       "      <td>-73.981010</td>\n",
       "      <td>02</td>\n",
       "      <td>8.566667</td>\n",
       "    </tr>\n",
       "    <tr>\n",
       "      <th>44</th>\n",
       "      <td>02M542</td>\n",
       "      <td>MANHATTAN BRIDGES HIGH SCHOOL</td>\n",
       "      <td>66</td>\n",
       "      <td>336.000000</td>\n",
       "      <td>378.000000</td>\n",
       "      <td>344.000000</td>\n",
       "      <td>1058.000000</td>\n",
       "      <td>Manhattan Bridges High School</td>\n",
       "      <td>67.000000</td>\n",
       "      <td>102.000000</td>\n",
       "      <td>...</td>\n",
       "      <td>0</td>\n",
       "      <td>0</td>\n",
       "      <td>0</td>\n",
       "      <td>0</td>\n",
       "      <td>0</td>\n",
       "      <td>525 West 50Th Street\\nNew York, NY 10019\\n(40....</td>\n",
       "      <td>40.765027</td>\n",
       "      <td>-73.992517</td>\n",
       "      <td>02</td>\n",
       "      <td>7.866667</td>\n",
       "    </tr>\n",
       "    <tr>\n",
       "      <th>80</th>\n",
       "      <td>06M293</td>\n",
       "      <td>CITY COLLEGE ACADEMY OF THE ARTS</td>\n",
       "      <td>60</td>\n",
       "      <td>408.000000</td>\n",
       "      <td>446.000000</td>\n",
       "      <td>416.000000</td>\n",
       "      <td>1270.000000</td>\n",
       "      <td>0</td>\n",
       "      <td>129.028846</td>\n",
       "      <td>197.038462</td>\n",
       "      <td>...</td>\n",
       "      <td>0</td>\n",
       "      <td>0</td>\n",
       "      <td>0</td>\n",
       "      <td>0</td>\n",
       "      <td>0</td>\n",
       "      <td>4600 Broadway\\nNew York, NY 10040\\n(40.8611133...</td>\n",
       "      <td>40.861113</td>\n",
       "      <td>-73.930452</td>\n",
       "      <td>06</td>\n",
       "      <td>8.433333</td>\n",
       "    </tr>\n",
       "    <tr>\n",
       "      <th>81</th>\n",
       "      <td>06M346</td>\n",
       "      <td>COMMUNITY HEALTH ACADEMY OF THE HEIGHTS</td>\n",
       "      <td>55</td>\n",
       "      <td>362.000000</td>\n",
       "      <td>376.000000</td>\n",
       "      <td>367.000000</td>\n",
       "      <td>1105.000000</td>\n",
       "      <td>0</td>\n",
       "      <td>129.028846</td>\n",
       "      <td>197.038462</td>\n",
       "      <td>...</td>\n",
       "      <td>0</td>\n",
       "      <td>0</td>\n",
       "      <td>0</td>\n",
       "      <td>0</td>\n",
       "      <td>0</td>\n",
       "      <td>504 West 158Th Street\\nNew York, NY 10032\\n(40...</td>\n",
       "      <td>40.833555</td>\n",
       "      <td>-73.941804</td>\n",
       "      <td>06</td>\n",
       "      <td>7.200000</td>\n",
       "    </tr>\n",
       "    <tr>\n",
       "      <th>82</th>\n",
       "      <td>06M348</td>\n",
       "      <td>WASHINGTON HEIGHTS EXPEDITIONARY LEARNING SCHOOL</td>\n",
       "      <td>70</td>\n",
       "      <td>380.000000</td>\n",
       "      <td>395.000000</td>\n",
       "      <td>399.000000</td>\n",
       "      <td>1174.000000</td>\n",
       "      <td>0</td>\n",
       "      <td>129.028846</td>\n",
       "      <td>197.038462</td>\n",
       "      <td>...</td>\n",
       "      <td>0</td>\n",
       "      <td>0</td>\n",
       "      <td>0</td>\n",
       "      <td>0</td>\n",
       "      <td>0</td>\n",
       "      <td>511 West 182Nd Street\\nNew York, NY 10033\\n(40...</td>\n",
       "      <td>40.848879</td>\n",
       "      <td>-73.930807</td>\n",
       "      <td>06</td>\n",
       "      <td>8.266667</td>\n",
       "    </tr>\n",
       "    <tr>\n",
       "      <th>84</th>\n",
       "      <td>06M462</td>\n",
       "      <td>HIGH SCHOOL FOR INTERNATIONAL BUSINESS AND FIN...</td>\n",
       "      <td>76</td>\n",
       "      <td>365.000000</td>\n",
       "      <td>384.000000</td>\n",
       "      <td>378.000000</td>\n",
       "      <td>1127.000000</td>\n",
       "      <td>H.S. INT'L BUSINESS &amp; FINANCE</td>\n",
       "      <td>108.000000</td>\n",
       "      <td>135.000000</td>\n",
       "      <td>...</td>\n",
       "      <td>0</td>\n",
       "      <td>0</td>\n",
       "      <td>0</td>\n",
       "      <td>0</td>\n",
       "      <td>0</td>\n",
       "      <td>549 Audubon Avenue\\nNew York, NY 10040\\n(40.85...</td>\n",
       "      <td>40.855938</td>\n",
       "      <td>-73.927030</td>\n",
       "      <td>06</td>\n",
       "      <td>7.500000</td>\n",
       "    </tr>\n",
       "    <tr>\n",
       "      <th>85</th>\n",
       "      <td>06M463</td>\n",
       "      <td>HIGH SCHOOL FOR MEDIA AND COMMUNICATIONS</td>\n",
       "      <td>63</td>\n",
       "      <td>369.000000</td>\n",
       "      <td>380.000000</td>\n",
       "      <td>349.000000</td>\n",
       "      <td>1098.000000</td>\n",
       "      <td>H.S. MEDIA &amp; COMMUNICATIONS</td>\n",
       "      <td>37.000000</td>\n",
       "      <td>64.000000</td>\n",
       "      <td>...</td>\n",
       "      <td>0</td>\n",
       "      <td>0</td>\n",
       "      <td>0</td>\n",
       "      <td>0</td>\n",
       "      <td>0</td>\n",
       "      <td>549 Audubon Avenue\\nNew York, NY 10040\\n(40.85...</td>\n",
       "      <td>40.855938</td>\n",
       "      <td>-73.927030</td>\n",
       "      <td>06</td>\n",
       "      <td>7.266667</td>\n",
       "    </tr>\n",
       "    <tr>\n",
       "      <th>86</th>\n",
       "      <td>06M467</td>\n",
       "      <td>HIGH SCHOOL FOR LAW AND PUBLIC SERVICE</td>\n",
       "      <td>94</td>\n",
       "      <td>363.000000</td>\n",
       "      <td>378.000000</td>\n",
       "      <td>361.000000</td>\n",
       "      <td>1102.000000</td>\n",
       "      <td>H.S. LAW &amp; PUBLIC SERVICE</td>\n",
       "      <td>141.000000</td>\n",
       "      <td>212.000000</td>\n",
       "      <td>...</td>\n",
       "      <td>0</td>\n",
       "      <td>0</td>\n",
       "      <td>0</td>\n",
       "      <td>0</td>\n",
       "      <td>0</td>\n",
       "      <td>549 Audubon Avenue\\nNew York, NY 10040\\n(40.85...</td>\n",
       "      <td>40.855938</td>\n",
       "      <td>-73.927030</td>\n",
       "      <td>06</td>\n",
       "      <td>7.300000</td>\n",
       "    </tr>\n",
       "    <tr>\n",
       "      <th>87</th>\n",
       "      <td>06M468</td>\n",
       "      <td>HIGH SCHOOL FOR HEALTH CAREERS AND SCIENCES</td>\n",
       "      <td>24</td>\n",
       "      <td>400.000000</td>\n",
       "      <td>422.000000</td>\n",
       "      <td>402.000000</td>\n",
       "      <td>1224.000000</td>\n",
       "      <td>H.S. HEALTH CAREERS &amp; SCIENCE</td>\n",
       "      <td>32.000000</td>\n",
       "      <td>38.000000</td>\n",
       "      <td>...</td>\n",
       "      <td>0</td>\n",
       "      <td>0</td>\n",
       "      <td>0</td>\n",
       "      <td>0</td>\n",
       "      <td>0</td>\n",
       "      <td>549 Audubon Avenue\\nNew York, NY 10040\\n(40.85...</td>\n",
       "      <td>40.855938</td>\n",
       "      <td>-73.927030</td>\n",
       "      <td>06</td>\n",
       "      <td>7.233333</td>\n",
       "    </tr>\n",
       "    <tr>\n",
       "      <th>89</th>\n",
       "      <td>06M552</td>\n",
       "      <td>GREGORIO LUPERON HIGH SCHOOL FOR SCIENCE AND M...</td>\n",
       "      <td>56</td>\n",
       "      <td>339.000000</td>\n",
       "      <td>349.000000</td>\n",
       "      <td>326.000000</td>\n",
       "      <td>1014.000000</td>\n",
       "      <td>GREGORIO LUPERON HS SCI &amp; MATH</td>\n",
       "      <td>88.000000</td>\n",
       "      <td>138.000000</td>\n",
       "      <td>...</td>\n",
       "      <td>0</td>\n",
       "      <td>0</td>\n",
       "      <td>0</td>\n",
       "      <td>0</td>\n",
       "      <td>0</td>\n",
       "      <td>501 West 165Th\\nNew York, NY 10032\\n(40.838032...</td>\n",
       "      <td>40.838032</td>\n",
       "      <td>-73.938371</td>\n",
       "      <td>06</td>\n",
       "      <td>8.466667</td>\n",
       "    </tr>\n",
       "    <tr>\n",
       "      <th>111</th>\n",
       "      <td>08X432</td>\n",
       "      <td>BRONX BRIDGES HIGH SCHOOL</td>\n",
       "      <td>s</td>\n",
       "      <td>404.119403</td>\n",
       "      <td>419.656716</td>\n",
       "      <td>399.662687</td>\n",
       "      <td>1223.438806</td>\n",
       "      <td>0</td>\n",
       "      <td>129.028846</td>\n",
       "      <td>197.038462</td>\n",
       "      <td>...</td>\n",
       "      <td>0</td>\n",
       "      <td>0</td>\n",
       "      <td>0</td>\n",
       "      <td>0</td>\n",
       "      <td>0</td>\n",
       "      <td>1980 Lafayette Avenue\\nBronx, NY 10473\\n(40.82...</td>\n",
       "      <td>40.822304</td>\n",
       "      <td>-73.855961</td>\n",
       "      <td>08</td>\n",
       "      <td>8.333333</td>\n",
       "    </tr>\n",
       "    <tr>\n",
       "      <th>125</th>\n",
       "      <td>09X365</td>\n",
       "      <td>ACADEMY FOR LANGUAGE AND TECHNOLOGY</td>\n",
       "      <td>54</td>\n",
       "      <td>315.000000</td>\n",
       "      <td>339.000000</td>\n",
       "      <td>297.000000</td>\n",
       "      <td>951.000000</td>\n",
       "      <td>Academy for Language and Technology</td>\n",
       "      <td>20.000000</td>\n",
       "      <td>20.000000</td>\n",
       "      <td>...</td>\n",
       "      <td>0</td>\n",
       "      <td>0</td>\n",
       "      <td>0</td>\n",
       "      <td>0</td>\n",
       "      <td>0</td>\n",
       "      <td>1700 Macombs Road\\nBronx, NY 10453\\n(40.849102...</td>\n",
       "      <td>40.849102</td>\n",
       "      <td>-73.916088</td>\n",
       "      <td>09</td>\n",
       "      <td>7.866667</td>\n",
       "    </tr>\n",
       "    <tr>\n",
       "      <th>139</th>\n",
       "      <td>10X268</td>\n",
       "      <td>KINGSBRIDGE INTERNATIONAL HIGH SCHOOL</td>\n",
       "      <td>52</td>\n",
       "      <td>304.000000</td>\n",
       "      <td>356.000000</td>\n",
       "      <td>302.000000</td>\n",
       "      <td>962.000000</td>\n",
       "      <td>Kingsbridge International High School</td>\n",
       "      <td>32.000000</td>\n",
       "      <td>37.000000</td>\n",
       "      <td>...</td>\n",
       "      <td>0</td>\n",
       "      <td>0</td>\n",
       "      <td>0</td>\n",
       "      <td>0</td>\n",
       "      <td>0</td>\n",
       "      <td>2780 Reservoir Avenue\\nBronx, NY 10468\\n(40.87...</td>\n",
       "      <td>40.870377</td>\n",
       "      <td>-73.898163</td>\n",
       "      <td>10</td>\n",
       "      <td>7.333333</td>\n",
       "    </tr>\n",
       "    <tr>\n",
       "      <th>141</th>\n",
       "      <td>10X342</td>\n",
       "      <td>INTERNATIONAL SCHOOL FOR LIBERAL ARTS</td>\n",
       "      <td>49</td>\n",
       "      <td>300.000000</td>\n",
       "      <td>333.000000</td>\n",
       "      <td>301.000000</td>\n",
       "      <td>934.000000</td>\n",
       "      <td>International School for Liberal Arts</td>\n",
       "      <td>55.000000</td>\n",
       "      <td>73.000000</td>\n",
       "      <td>...</td>\n",
       "      <td>0</td>\n",
       "      <td>0</td>\n",
       "      <td>0</td>\n",
       "      <td>0</td>\n",
       "      <td>0</td>\n",
       "      <td>2780 Reservoir Avenue\\nBronx, NY 10468\\n(40.87...</td>\n",
       "      <td>40.870377</td>\n",
       "      <td>-73.898163</td>\n",
       "      <td>10</td>\n",
       "      <td>7.833333</td>\n",
       "    </tr>\n",
       "    <tr>\n",
       "      <th>142</th>\n",
       "      <td>10X368</td>\n",
       "      <td>INsTECH ACADEMY (M.S. / HIGH SCHOOL 368)</td>\n",
       "      <td>111</td>\n",
       "      <td>390.000000</td>\n",
       "      <td>408.000000</td>\n",
       "      <td>383.000000</td>\n",
       "      <td>1181.000000</td>\n",
       "      <td>MS/HS 368 INFO &amp; NETWORK TECH</td>\n",
       "      <td>40.000000</td>\n",
       "      <td>54.000000</td>\n",
       "      <td>...</td>\n",
       "      <td>0</td>\n",
       "      <td>0</td>\n",
       "      <td>0</td>\n",
       "      <td>0</td>\n",
       "      <td>0</td>\n",
       "      <td>2975 Tibbett Avenue\\nBronx, NY 10463\\n(40.8800...</td>\n",
       "      <td>40.880050</td>\n",
       "      <td>-73.909209</td>\n",
       "      <td>10</td>\n",
       "      <td>7.500000</td>\n",
       "    </tr>\n",
       "    <tr>\n",
       "      <th>176</th>\n",
       "      <td>12X388</td>\n",
       "      <td>PAN AMERICAN INTERNATIONAL HIGH SCHOOL AT MONROE</td>\n",
       "      <td>30</td>\n",
       "      <td>321.000000</td>\n",
       "      <td>351.000000</td>\n",
       "      <td>298.000000</td>\n",
       "      <td>970.000000</td>\n",
       "      <td>0</td>\n",
       "      <td>129.028846</td>\n",
       "      <td>197.038462</td>\n",
       "      <td>...</td>\n",
       "      <td>0</td>\n",
       "      <td>0</td>\n",
       "      <td>0</td>\n",
       "      <td>0</td>\n",
       "      <td>0</td>\n",
       "      <td>1300 Boynton Avenue\\nBronx, NY 10472\\n(40.8313...</td>\n",
       "      <td>40.831366</td>\n",
       "      <td>-73.878823</td>\n",
       "      <td>12</td>\n",
       "      <td>7.333333</td>\n",
       "    </tr>\n",
       "    <tr>\n",
       "      <th>179</th>\n",
       "      <td>12X550</td>\n",
       "      <td>HIGH SCHOOL OF WORLD CULTURES</td>\n",
       "      <td>42</td>\n",
       "      <td>304.000000</td>\n",
       "      <td>323.000000</td>\n",
       "      <td>312.000000</td>\n",
       "      <td>939.000000</td>\n",
       "      <td>0</td>\n",
       "      <td>129.028846</td>\n",
       "      <td>197.038462</td>\n",
       "      <td>...</td>\n",
       "      <td>0</td>\n",
       "      <td>0</td>\n",
       "      <td>0</td>\n",
       "      <td>0</td>\n",
       "      <td>0</td>\n",
       "      <td>1300 Boynton Avenue\\nBronx, NY 10472\\n(40.8313...</td>\n",
       "      <td>40.831366</td>\n",
       "      <td>-73.878823</td>\n",
       "      <td>12</td>\n",
       "      <td>8.133333</td>\n",
       "    </tr>\n",
       "    <tr>\n",
       "      <th>196</th>\n",
       "      <td>14K071</td>\n",
       "      <td>JUAN MOREL CAMPOS SECONDARY SCHOOL</td>\n",
       "      <td>102</td>\n",
       "      <td>365.000000</td>\n",
       "      <td>361.000000</td>\n",
       "      <td>359.000000</td>\n",
       "      <td>1085.000000</td>\n",
       "      <td>JHS 071 JUAN MOREL CAMPOS</td>\n",
       "      <td>16.000000</td>\n",
       "      <td>16.000000</td>\n",
       "      <td>...</td>\n",
       "      <td>0</td>\n",
       "      <td>0</td>\n",
       "      <td>0</td>\n",
       "      <td>0</td>\n",
       "      <td>0</td>\n",
       "      <td>215 Heyward Street\\nBrooklyn, NY 11206\\n(40.70...</td>\n",
       "      <td>40.703577</td>\n",
       "      <td>-73.953237</td>\n",
       "      <td>14</td>\n",
       "      <td>7.066667</td>\n",
       "    </tr>\n",
       "    <tr>\n",
       "      <th>209</th>\n",
       "      <td>14K685</td>\n",
       "      <td>EL PUENTE ACADEMY FOR PEACE AND JUSTICE</td>\n",
       "      <td>28</td>\n",
       "      <td>359.000000</td>\n",
       "      <td>335.000000</td>\n",
       "      <td>341.000000</td>\n",
       "      <td>1035.000000</td>\n",
       "      <td>EL PUENTE ACADEMY</td>\n",
       "      <td>129.028846</td>\n",
       "      <td>197.038462</td>\n",
       "      <td>...</td>\n",
       "      <td>0</td>\n",
       "      <td>0</td>\n",
       "      <td>0</td>\n",
       "      <td>0</td>\n",
       "      <td>0</td>\n",
       "      <td>250 Hooper Street\\nBrooklyn, NY 11211\\n(40.705...</td>\n",
       "      <td>40.705766</td>\n",
       "      <td>-73.955729</td>\n",
       "      <td>14</td>\n",
       "      <td>8.500000</td>\n",
       "    </tr>\n",
       "    <tr>\n",
       "      <th>218</th>\n",
       "      <td>15K667</td>\n",
       "      <td>SUNSET PARK HIGH SCHOOL</td>\n",
       "      <td>s</td>\n",
       "      <td>404.119403</td>\n",
       "      <td>419.656716</td>\n",
       "      <td>399.662687</td>\n",
       "      <td>1223.438806</td>\n",
       "      <td>0</td>\n",
       "      <td>129.028846</td>\n",
       "      <td>197.038462</td>\n",
       "      <td>...</td>\n",
       "      <td>Then to New York City residents</td>\n",
       "      <td>0</td>\n",
       "      <td>0</td>\n",
       "      <td>0</td>\n",
       "      <td>0</td>\n",
       "      <td>153 35Th Street\\nBrooklyn, NY 11232\\n(40.65595...</td>\n",
       "      <td>40.655953</td>\n",
       "      <td>-74.005497</td>\n",
       "      <td>15</td>\n",
       "      <td>7.233333</td>\n",
       "    </tr>\n",
       "    <tr>\n",
       "      <th>253</th>\n",
       "      <td>19K583</td>\n",
       "      <td>MULTICULTURAL HIGH SCHOOL</td>\n",
       "      <td>29</td>\n",
       "      <td>279.000000</td>\n",
       "      <td>322.000000</td>\n",
       "      <td>286.000000</td>\n",
       "      <td>887.000000</td>\n",
       "      <td>Multicultural High School</td>\n",
       "      <td>44.000000</td>\n",
       "      <td>44.000000</td>\n",
       "      <td>...</td>\n",
       "      <td>0</td>\n",
       "      <td>0</td>\n",
       "      <td>0</td>\n",
       "      <td>0</td>\n",
       "      <td>0</td>\n",
       "      <td>999 Jamaica Avenue\\nBrooklyn, NY 11208\\n(40.69...</td>\n",
       "      <td>40.691144</td>\n",
       "      <td>-73.868426</td>\n",
       "      <td>19</td>\n",
       "      <td>7.033333</td>\n",
       "    </tr>\n",
       "    <tr>\n",
       "      <th>286</th>\n",
       "      <td>24Q296</td>\n",
       "      <td>PAN AMERICAN INTERNATIONAL HIGH SCHOOL</td>\n",
       "      <td>55</td>\n",
       "      <td>317.000000</td>\n",
       "      <td>323.000000</td>\n",
       "      <td>311.000000</td>\n",
       "      <td>951.000000</td>\n",
       "      <td>0</td>\n",
       "      <td>129.028846</td>\n",
       "      <td>197.038462</td>\n",
       "      <td>...</td>\n",
       "      <td>0</td>\n",
       "      <td>0</td>\n",
       "      <td>0</td>\n",
       "      <td>0</td>\n",
       "      <td>0</td>\n",
       "      <td>45-10 94Th Street\\nElmhurst, NY 11373\\n(40.743...</td>\n",
       "      <td>40.743303</td>\n",
       "      <td>-73.870575</td>\n",
       "      <td>24</td>\n",
       "      <td>7.500000</td>\n",
       "    </tr>\n",
       "    <tr>\n",
       "      <th>358</th>\n",
       "      <td>32K545</td>\n",
       "      <td>EBC HIGH SCHOOL FOR PUBLIC SERVICE–BUSHWICK</td>\n",
       "      <td>88</td>\n",
       "      <td>384.000000</td>\n",
       "      <td>409.000000</td>\n",
       "      <td>361.000000</td>\n",
       "      <td>1154.000000</td>\n",
       "      <td>EBC-HS FOR PUB SERVICE (BUSH)</td>\n",
       "      <td>47.000000</td>\n",
       "      <td>64.000000</td>\n",
       "      <td>...</td>\n",
       "      <td>0</td>\n",
       "      <td>0</td>\n",
       "      <td>0</td>\n",
       "      <td>0</td>\n",
       "      <td>0</td>\n",
       "      <td>1155 Dekalb Avenue\\nBrooklyn, NY 11221\\n(40.69...</td>\n",
       "      <td>40.694482</td>\n",
       "      <td>-73.929154</td>\n",
       "      <td>32</td>\n",
       "      <td>6.733333</td>\n",
       "    </tr>\n",
       "  </tbody>\n",
       "</table>\n",
       "<p>23 rows × 161 columns</p>\n",
       "</div>"
      ],
      "text/plain": [
       "        DBN                                        SCHOOL NAME  \\\n",
       "31   02M427              MANHATTAN ACADEMY FOR ARTS & LANGUAGE   \n",
       "44   02M542                      MANHATTAN BRIDGES HIGH SCHOOL   \n",
       "80   06M293                   CITY COLLEGE ACADEMY OF THE ARTS   \n",
       "81   06M346            COMMUNITY HEALTH ACADEMY OF THE HEIGHTS   \n",
       "82   06M348   WASHINGTON HEIGHTS EXPEDITIONARY LEARNING SCHOOL   \n",
       "84   06M462  HIGH SCHOOL FOR INTERNATIONAL BUSINESS AND FIN...   \n",
       "85   06M463           HIGH SCHOOL FOR MEDIA AND COMMUNICATIONS   \n",
       "86   06M467             HIGH SCHOOL FOR LAW AND PUBLIC SERVICE   \n",
       "87   06M468        HIGH SCHOOL FOR HEALTH CAREERS AND SCIENCES   \n",
       "89   06M552  GREGORIO LUPERON HIGH SCHOOL FOR SCIENCE AND M...   \n",
       "111  08X432                          BRONX BRIDGES HIGH SCHOOL   \n",
       "125  09X365                ACADEMY FOR LANGUAGE AND TECHNOLOGY   \n",
       "139  10X268              KINGSBRIDGE INTERNATIONAL HIGH SCHOOL   \n",
       "141  10X342              INTERNATIONAL SCHOOL FOR LIBERAL ARTS   \n",
       "142  10X368           INsTECH ACADEMY (M.S. / HIGH SCHOOL 368)   \n",
       "176  12X388   PAN AMERICAN INTERNATIONAL HIGH SCHOOL AT MONROE   \n",
       "179  12X550                      HIGH SCHOOL OF WORLD CULTURES   \n",
       "196  14K071                 JUAN MOREL CAMPOS SECONDARY SCHOOL   \n",
       "209  14K685            EL PUENTE ACADEMY FOR PEACE AND JUSTICE   \n",
       "218  15K667                            SUNSET PARK HIGH SCHOOL   \n",
       "253  19K583                          MULTICULTURAL HIGH SCHOOL   \n",
       "286  24Q296             PAN AMERICAN INTERNATIONAL HIGH SCHOOL   \n",
       "358  32K545        EBC HIGH SCHOOL FOR PUBLIC SERVICE–BUSHWICK   \n",
       "\n",
       "    Num of SAT Test Takers  SAT Critical Reading Avg. Score  \\\n",
       "31                       s                       404.119403   \n",
       "44                      66                       336.000000   \n",
       "80                      60                       408.000000   \n",
       "81                      55                       362.000000   \n",
       "82                      70                       380.000000   \n",
       "84                      76                       365.000000   \n",
       "85                      63                       369.000000   \n",
       "86                      94                       363.000000   \n",
       "87                      24                       400.000000   \n",
       "89                      56                       339.000000   \n",
       "111                      s                       404.119403   \n",
       "125                     54                       315.000000   \n",
       "139                     52                       304.000000   \n",
       "141                     49                       300.000000   \n",
       "142                    111                       390.000000   \n",
       "176                     30                       321.000000   \n",
       "179                     42                       304.000000   \n",
       "196                    102                       365.000000   \n",
       "209                     28                       359.000000   \n",
       "218                      s                       404.119403   \n",
       "253                     29                       279.000000   \n",
       "286                     55                       317.000000   \n",
       "358                     88                       384.000000   \n",
       "\n",
       "     SAT Math Avg. Score  SAT Writing Avg. Score    sat_score  \\\n",
       "31            419.656716              399.662687  1223.438806   \n",
       "44            378.000000              344.000000  1058.000000   \n",
       "80            446.000000              416.000000  1270.000000   \n",
       "81            376.000000              367.000000  1105.000000   \n",
       "82            395.000000              399.000000  1174.000000   \n",
       "84            384.000000              378.000000  1127.000000   \n",
       "85            380.000000              349.000000  1098.000000   \n",
       "86            378.000000              361.000000  1102.000000   \n",
       "87            422.000000              402.000000  1224.000000   \n",
       "89            349.000000              326.000000  1014.000000   \n",
       "111           419.656716              399.662687  1223.438806   \n",
       "125           339.000000              297.000000   951.000000   \n",
       "139           356.000000              302.000000   962.000000   \n",
       "141           333.000000              301.000000   934.000000   \n",
       "142           408.000000              383.000000  1181.000000   \n",
       "176           351.000000              298.000000   970.000000   \n",
       "179           323.000000              312.000000   939.000000   \n",
       "196           361.000000              359.000000  1085.000000   \n",
       "209           335.000000              341.000000  1035.000000   \n",
       "218           419.656716              399.662687  1223.438806   \n",
       "253           322.000000              286.000000   887.000000   \n",
       "286           323.000000              311.000000   951.000000   \n",
       "358           409.000000              361.000000  1154.000000   \n",
       "\n",
       "                                SchoolName  AP Test Takers   \\\n",
       "31                                       0       129.028846   \n",
       "44           Manhattan Bridges High School        67.000000   \n",
       "80                                       0       129.028846   \n",
       "81                                       0       129.028846   \n",
       "82                                       0       129.028846   \n",
       "84           H.S. INT'L BUSINESS & FINANCE       108.000000   \n",
       "85             H.S. MEDIA & COMMUNICATIONS        37.000000   \n",
       "86               H.S. LAW & PUBLIC SERVICE       141.000000   \n",
       "87           H.S. HEALTH CAREERS & SCIENCE        32.000000   \n",
       "89          GREGORIO LUPERON HS SCI & MATH        88.000000   \n",
       "111                                      0       129.028846   \n",
       "125    Academy for Language and Technology        20.000000   \n",
       "139  Kingsbridge International High School        32.000000   \n",
       "141  International School for Liberal Arts        55.000000   \n",
       "142          MS/HS 368 INFO & NETWORK TECH        40.000000   \n",
       "176                                      0       129.028846   \n",
       "179                                      0       129.028846   \n",
       "196              JHS 071 JUAN MOREL CAMPOS        16.000000   \n",
       "209                      EL PUENTE ACADEMY       129.028846   \n",
       "218                                      0       129.028846   \n",
       "253              Multicultural High School        44.000000   \n",
       "286                                      0       129.028846   \n",
       "358          EBC-HS FOR PUB SERVICE (BUSH)        47.000000   \n",
       "\n",
       "     Total Exams Taken    ...                           priority06 priority07  \\\n",
       "31          197.038462    ...                                    0          0   \n",
       "44          102.000000    ...                                    0          0   \n",
       "80          197.038462    ...                                    0          0   \n",
       "81          197.038462    ...                                    0          0   \n",
       "82          197.038462    ...                                    0          0   \n",
       "84          135.000000    ...                                    0          0   \n",
       "85           64.000000    ...                                    0          0   \n",
       "86          212.000000    ...                                    0          0   \n",
       "87           38.000000    ...                                    0          0   \n",
       "89          138.000000    ...                                    0          0   \n",
       "111         197.038462    ...                                    0          0   \n",
       "125          20.000000    ...                                    0          0   \n",
       "139          37.000000    ...                                    0          0   \n",
       "141          73.000000    ...                                    0          0   \n",
       "142          54.000000    ...                                    0          0   \n",
       "176         197.038462    ...                                    0          0   \n",
       "179         197.038462    ...                                    0          0   \n",
       "196          16.000000    ...                                    0          0   \n",
       "209         197.038462    ...                                    0          0   \n",
       "218         197.038462    ...      Then to New York City residents          0   \n",
       "253          44.000000    ...                                    0          0   \n",
       "286         197.038462    ...                                    0          0   \n",
       "358          64.000000    ...                                    0          0   \n",
       "\n",
       "    priority08 priority09  priority10  \\\n",
       "31           0          0           0   \n",
       "44           0          0           0   \n",
       "80           0          0           0   \n",
       "81           0          0           0   \n",
       "82           0          0           0   \n",
       "84           0          0           0   \n",
       "85           0          0           0   \n",
       "86           0          0           0   \n",
       "87           0          0           0   \n",
       "89           0          0           0   \n",
       "111          0          0           0   \n",
       "125          0          0           0   \n",
       "139          0          0           0   \n",
       "141          0          0           0   \n",
       "142          0          0           0   \n",
       "176          0          0           0   \n",
       "179          0          0           0   \n",
       "196          0          0           0   \n",
       "209          0          0           0   \n",
       "218          0          0           0   \n",
       "253          0          0           0   \n",
       "286          0          0           0   \n",
       "358          0          0           0   \n",
       "\n",
       "                                            Location 1        lat        lon  \\\n",
       "31   111 East 33Rd Street\\nNew York, NY 10016\\n(40....  40.746106 -73.981010   \n",
       "44   525 West 50Th Street\\nNew York, NY 10019\\n(40....  40.765027 -73.992517   \n",
       "80   4600 Broadway\\nNew York, NY 10040\\n(40.8611133...  40.861113 -73.930452   \n",
       "81   504 West 158Th Street\\nNew York, NY 10032\\n(40...  40.833555 -73.941804   \n",
       "82   511 West 182Nd Street\\nNew York, NY 10033\\n(40...  40.848879 -73.930807   \n",
       "84   549 Audubon Avenue\\nNew York, NY 10040\\n(40.85...  40.855938 -73.927030   \n",
       "85   549 Audubon Avenue\\nNew York, NY 10040\\n(40.85...  40.855938 -73.927030   \n",
       "86   549 Audubon Avenue\\nNew York, NY 10040\\n(40.85...  40.855938 -73.927030   \n",
       "87   549 Audubon Avenue\\nNew York, NY 10040\\n(40.85...  40.855938 -73.927030   \n",
       "89   501 West 165Th\\nNew York, NY 10032\\n(40.838032...  40.838032 -73.938371   \n",
       "111  1980 Lafayette Avenue\\nBronx, NY 10473\\n(40.82...  40.822304 -73.855961   \n",
       "125  1700 Macombs Road\\nBronx, NY 10453\\n(40.849102...  40.849102 -73.916088   \n",
       "139  2780 Reservoir Avenue\\nBronx, NY 10468\\n(40.87...  40.870377 -73.898163   \n",
       "141  2780 Reservoir Avenue\\nBronx, NY 10468\\n(40.87...  40.870377 -73.898163   \n",
       "142  2975 Tibbett Avenue\\nBronx, NY 10463\\n(40.8800...  40.880050 -73.909209   \n",
       "176  1300 Boynton Avenue\\nBronx, NY 10472\\n(40.8313...  40.831366 -73.878823   \n",
       "179  1300 Boynton Avenue\\nBronx, NY 10472\\n(40.8313...  40.831366 -73.878823   \n",
       "196  215 Heyward Street\\nBrooklyn, NY 11206\\n(40.70...  40.703577 -73.953237   \n",
       "209  250 Hooper Street\\nBrooklyn, NY 11211\\n(40.705...  40.705766 -73.955729   \n",
       "218  153 35Th Street\\nBrooklyn, NY 11232\\n(40.65595...  40.655953 -74.005497   \n",
       "253  999 Jamaica Avenue\\nBrooklyn, NY 11208\\n(40.69...  40.691144 -73.868426   \n",
       "286  45-10 94Th Street\\nElmhurst, NY 11373\\n(40.743...  40.743303 -73.870575   \n",
       "358  1155 Dekalb Avenue\\nBrooklyn, NY 11221\\n(40.69...  40.694482 -73.929154   \n",
       "\n",
       "    school_dist saf_avg_11  \n",
       "31           02   8.566667  \n",
       "44           02   7.866667  \n",
       "80           06   8.433333  \n",
       "81           06   7.200000  \n",
       "82           06   8.266667  \n",
       "84           06   7.500000  \n",
       "85           06   7.266667  \n",
       "86           06   7.300000  \n",
       "87           06   7.233333  \n",
       "89           06   8.466667  \n",
       "111          08   8.333333  \n",
       "125          09   7.866667  \n",
       "139          10   7.333333  \n",
       "141          10   7.833333  \n",
       "142          10   7.500000  \n",
       "176          12   7.333333  \n",
       "179          12   8.133333  \n",
       "196          14   7.066667  \n",
       "209          14   8.500000  \n",
       "218          15   7.233333  \n",
       "253          19   7.033333  \n",
       "286          24   7.500000  \n",
       "358          32   6.733333  \n",
       "\n",
       "[23 rows x 161 columns]"
      ]
     },
     "execution_count": 21,
     "metadata": {},
     "output_type": "execute_result"
    }
   ],
   "source": [
    "hispanic_majority"
   ]
  },
  {
   "cell_type": "markdown",
   "metadata": {},
   "source": [
    "1. What's interesting is that schools with more than 80% Hispanic kids have medium-high to high safety!\n",
    "\n",
    "2. Most of these schools are attended by recent immigrants, who may be new to the English language, the math curriculum, and may not have yet developed adequate reading skills."
   ]
  },
  {
   "cell_type": "code",
   "execution_count": 22,
   "metadata": {
    "collapsed": false
   },
   "outputs": [
    {
     "data": {
      "text/plain": [
       "<matplotlib.axes._subplots.AxesSubplot at 0x7f40d529bf98>"
      ]
     },
     "execution_count": 22,
     "metadata": {},
     "output_type": "execute_result"
    },
    {
     "data": {
      "image/png": "[encoded data removed]",
      "text/plain": [
       "<matplotlib.figure.Figure at 0x7f40d5281358>"
      ]
     },
     "metadata": {},
     "output_type": "display_data"
    }
   ],
   "source": [
    "gender = ['male_per', 'female_per']\n",
    "\n",
    "combined.corr()['sat_score'][gender].plot.bar()"
   ]
  },
  {
   "cell_type": "markdown",
   "metadata": {},
   "source": [
    "There is quite a weak positive and negative correlation for males and females when it comes to SAT scores. Girl heavy schools tend to perform only slightly better."
   ]
  },
  {
   "cell_type": "code",
   "execution_count": 23,
   "metadata": {
    "collapsed": false
   },
   "outputs": [
    {
     "data": {
      "text/plain": [
       "<matplotlib.axes._subplots.AxesSubplot at 0x7f40d5287470>"
      ]
     },
     "execution_count": 23,
     "metadata": {},
     "output_type": "execute_result"
    },
    {
     "data": {
      "image/png": "[encoded data removed]",
      "text/plain": [
       "<matplotlib.figure.Figure at 0x7f40d529b7b8>"
      ]
     },
     "metadata": {},
     "output_type": "display_data"
    }
   ],
   "source": [
    "combined.plot.scatter(x = 'female_per', y = 'sat_score')"
   ]
  },
  {
   "cell_type": "markdown",
   "metadata": {},
   "source": [
    "As discussed previously, there is no strong correlation on either side. \n",
    "\n",
    "1. Schools with approximately equal boys and girls tend not to score well on the SAT. Scores range from 900 to 1400 (Approx.)\n",
    "\n",
    "2. Schools with 30-40% girls perform very well, in the range of 1700-2100 (Approx.)\n",
    "\n",
    "3. Schools with 60-80% girls perform decently in the range of 1600-2000 (Approx.)"
   ]
  },
  {
   "cell_type": "code",
   "execution_count": 24,
   "metadata": {
    "collapsed": true
   },
   "outputs": [],
   "source": [
    "#Let's calculate the percentage of AP takers in every school\n",
    "\n",
    "combined['ap_per'] = (combined['AP Test Takers ']/combined['total_enrollment']) * 100"
   ]
  },
  {
   "cell_type": "code",
   "execution_count": 25,
   "metadata": {
    "collapsed": false
   },
   "outputs": [
    {
     "data": {
      "text/plain": [
       "<matplotlib.axes._subplots.AxesSubplot at 0x7f40d521bc18>"
      ]
     },
     "execution_count": 25,
     "metadata": {},
     "output_type": "execute_result"
    },
    {
     "data": {
      "image/png": "[encoded data removed]",
      "text/plain": [
       "<matplotlib.figure.Figure at 0x7f40d3e31320>"
      ]
     },
     "metadata": {},
     "output_type": "display_data"
    }
   ],
   "source": [
    "combined.plot.scatter(x = 'ap_per', y = 'sat_score')"
   ]
  },
  {
   "cell_type": "markdown",
   "metadata": {},
   "source": [
    "(Counterintuitively?) There appears to be no strong correlation betwen SAT scores and AP test takers. A slight relationship may be discernible, but that would certainly not amount to any statistical significance. \n",
    "\n",
    "The AP Test and the SAT may therefore be quite independent (The AP may require quite an advanced domain knowledge. This can explain a situation where a student who's done well in the SAT but hasn't in the AP, and another who's done well in the AP, and therefore done well in the easier SAT)."
   ]
  },
  {
   "cell_type": "code",
   "execution_count": 26,
   "metadata": {
    "collapsed": false
   },
   "outputs": [
    {
     "data": {
      "text/html": [
       "<div>\n",
       "<table border=\"1\" class=\"dataframe\">\n",
       "  <thead>\n",
       "    <tr style=\"text-align: right;\">\n",
       "      <th></th>\n",
       "      <th>DBN</th>\n",
       "      <th>SCHOOL NAME</th>\n",
       "      <th>Num of SAT Test Takers</th>\n",
       "      <th>SAT Critical Reading Avg. Score</th>\n",
       "      <th>SAT Math Avg. Score</th>\n",
       "      <th>SAT Writing Avg. Score</th>\n",
       "      <th>sat_score</th>\n",
       "      <th>SchoolName</th>\n",
       "      <th>AP Test Takers</th>\n",
       "      <th>Total Exams Taken</th>\n",
       "      <th>...</th>\n",
       "      <th>priority07</th>\n",
       "      <th>priority08</th>\n",
       "      <th>priority09</th>\n",
       "      <th>priority10</th>\n",
       "      <th>Location 1</th>\n",
       "      <th>lat</th>\n",
       "      <th>lon</th>\n",
       "      <th>school_dist</th>\n",
       "      <th>saf_avg_11</th>\n",
       "      <th>ap_per</th>\n",
       "    </tr>\n",
       "  </thead>\n",
       "  <tbody>\n",
       "    <tr>\n",
       "      <th>0</th>\n",
       "      <td>01M292</td>\n",
       "      <td>HENRY STREET SCHOOL FOR INTERNATIONAL STUDIES</td>\n",
       "      <td>29</td>\n",
       "      <td>355.0</td>\n",
       "      <td>404.0</td>\n",
       "      <td>363.0</td>\n",
       "      <td>1122.0</td>\n",
       "      <td>0</td>\n",
       "      <td>129.028846</td>\n",
       "      <td>197.038462</td>\n",
       "      <td>...</td>\n",
       "      <td>0</td>\n",
       "      <td>0</td>\n",
       "      <td>0</td>\n",
       "      <td>0</td>\n",
       "      <td>220 Henry Street\\nNew York, NY 10002\\n(40.7137...</td>\n",
       "      <td>40.713764</td>\n",
       "      <td>-73.985260</td>\n",
       "      <td>01</td>\n",
       "      <td>6.700000</td>\n",
       "      <td>30.575556</td>\n",
       "    </tr>\n",
       "    <tr>\n",
       "      <th>1</th>\n",
       "      <td>01M448</td>\n",
       "      <td>UNIVERSITY NEIGHBORHOOD HIGH SCHOOL</td>\n",
       "      <td>91</td>\n",
       "      <td>383.0</td>\n",
       "      <td>423.0</td>\n",
       "      <td>366.0</td>\n",
       "      <td>1172.0</td>\n",
       "      <td>UNIVERSITY NEIGHBORHOOD H.S.</td>\n",
       "      <td>39.000000</td>\n",
       "      <td>49.000000</td>\n",
       "      <td>...</td>\n",
       "      <td>0</td>\n",
       "      <td>0</td>\n",
       "      <td>0</td>\n",
       "      <td>0</td>\n",
       "      <td>200 Monroe Street\\nNew York, NY 10002\\n(40.712...</td>\n",
       "      <td>40.712332</td>\n",
       "      <td>-73.984797</td>\n",
       "      <td>01</td>\n",
       "      <td>6.833333</td>\n",
       "      <td>9.898477</td>\n",
       "    </tr>\n",
       "    <tr>\n",
       "      <th>2</th>\n",
       "      <td>01M450</td>\n",
       "      <td>EAST SIDE COMMUNITY SCHOOL</td>\n",
       "      <td>70</td>\n",
       "      <td>377.0</td>\n",
       "      <td>402.0</td>\n",
       "      <td>370.0</td>\n",
       "      <td>1149.0</td>\n",
       "      <td>EAST SIDE COMMUNITY HS</td>\n",
       "      <td>19.000000</td>\n",
       "      <td>21.000000</td>\n",
       "      <td>...</td>\n",
       "      <td>0</td>\n",
       "      <td>0</td>\n",
       "      <td>0</td>\n",
       "      <td>0</td>\n",
       "      <td>420 East 12 Street\\nNew York, NY 10009\\n(40.72...</td>\n",
       "      <td>40.729783</td>\n",
       "      <td>-73.983041</td>\n",
       "      <td>01</td>\n",
       "      <td>7.537222</td>\n",
       "      <td>3.177258</td>\n",
       "    </tr>\n",
       "  </tbody>\n",
       "</table>\n",
       "<p>3 rows × 162 columns</p>\n",
       "</div>"
      ],
      "text/plain": [
       "      DBN                                    SCHOOL NAME  \\\n",
       "0  01M292  HENRY STREET SCHOOL FOR INTERNATIONAL STUDIES   \n",
       "1  01M448            UNIVERSITY NEIGHBORHOOD HIGH SCHOOL   \n",
       "2  01M450                     EAST SIDE COMMUNITY SCHOOL   \n",
       "\n",
       "  Num of SAT Test Takers  SAT Critical Reading Avg. Score  \\\n",
       "0                     29                            355.0   \n",
       "1                     91                            383.0   \n",
       "2                     70                            377.0   \n",
       "\n",
       "   SAT Math Avg. Score  SAT Writing Avg. Score  sat_score  \\\n",
       "0                404.0                   363.0     1122.0   \n",
       "1                423.0                   366.0     1172.0   \n",
       "2                402.0                   370.0     1149.0   \n",
       "\n",
       "                     SchoolName  AP Test Takers   Total Exams Taken  \\\n",
       "0                             0       129.028846         197.038462   \n",
       "1  UNIVERSITY NEIGHBORHOOD H.S.        39.000000          49.000000   \n",
       "2        EAST SIDE COMMUNITY HS        19.000000          21.000000   \n",
       "\n",
       "     ...      priority07 priority08 priority09 priority10  \\\n",
       "0    ...               0          0          0          0   \n",
       "1    ...               0          0          0          0   \n",
       "2    ...               0          0          0          0   \n",
       "\n",
       "                                          Location 1        lat        lon  \\\n",
       "0  220 Henry Street\\nNew York, NY 10002\\n(40.7137...  40.713764 -73.985260   \n",
       "1  200 Monroe Street\\nNew York, NY 10002\\n(40.712...  40.712332 -73.984797   \n",
       "2  420 East 12 Street\\nNew York, NY 10009\\n(40.72...  40.729783 -73.983041   \n",
       "\n",
       "  school_dist saf_avg_11     ap_per  \n",
       "0          01   6.700000  30.575556  \n",
       "1          01   6.833333   9.898477  \n",
       "2          01   7.537222   3.177258  \n",
       "\n",
       "[3 rows x 162 columns]"
      ]
     },
     "execution_count": 26,
     "metadata": {},
     "output_type": "execute_result"
    }
   ],
   "source": [
    "combined.head(3)"
   ]
  },
  {
   "cell_type": "code",
   "execution_count": 27,
   "metadata": {
    "collapsed": false
   },
   "outputs": [
    {
     "data": {
      "text/plain": [
       "02    48\n",
       "10    22\n",
       "09    20\n",
       "11    15\n",
       "17    14\n",
       "14    14\n",
       "07    13\n",
       "24    13\n",
       "13    13\n",
       "12    12\n",
       "03    12\n",
       "19    12\n",
       "28    11\n",
       "21    11\n",
       "08    11\n",
       "18    11\n",
       "06    10\n",
       "27    10\n",
       "31    10\n",
       "15     9\n",
       "30     9\n",
       "25     8\n",
       "29     8\n",
       "05     7\n",
       "04     7\n",
       "32     6\n",
       "01     6\n",
       "20     5\n",
       "26     5\n",
       "22     4\n",
       "16     4\n",
       "23     3\n",
       "Name: school_dist, dtype: int64"
      ]
     },
     "execution_count": 27,
     "metadata": {},
     "output_type": "execute_result"
    }
   ],
   "source": [
    "#Let's look at the best performing districts\n",
    "\n",
    "combined['school_dist'].value_counts()"
   ]
  },
  {
   "cell_type": "code",
   "execution_count": 28,
   "metadata": {
    "collapsed": false
   },
   "outputs": [
    {
     "data": {
      "text/html": [
       "<div>\n",
       "<table border=\"1\" class=\"dataframe\">\n",
       "  <thead>\n",
       "    <tr style=\"text-align: right;\">\n",
       "      <th></th>\n",
       "      <th>SAT Critical Reading Avg. Score</th>\n",
       "      <th>SAT Math Avg. Score</th>\n",
       "      <th>SAT Writing Avg. Score</th>\n",
       "      <th>sat_score</th>\n",
       "      <th>AP Test Takers</th>\n",
       "      <th>Total Exams Taken</th>\n",
       "      <th>Number of Exams with scores 3 4 or 5</th>\n",
       "      <th>Total Cohort</th>\n",
       "      <th>CSD</th>\n",
       "      <th>NUMBER OF STUDENTS / SEATS FILLED</th>\n",
       "      <th>...</th>\n",
       "      <th>expgrade_span_max</th>\n",
       "      <th>zip</th>\n",
       "      <th>total_students</th>\n",
       "      <th>number_programs</th>\n",
       "      <th>priority08</th>\n",
       "      <th>priority09</th>\n",
       "      <th>priority10</th>\n",
       "      <th>lat</th>\n",
       "      <th>lon</th>\n",
       "      <th>saf_avg_11</th>\n",
       "    </tr>\n",
       "    <tr>\n",
       "      <th>school_dist</th>\n",
       "      <th></th>\n",
       "      <th></th>\n",
       "      <th></th>\n",
       "      <th></th>\n",
       "      <th></th>\n",
       "      <th></th>\n",
       "      <th></th>\n",
       "      <th></th>\n",
       "      <th></th>\n",
       "      <th></th>\n",
       "      <th></th>\n",
       "      <th></th>\n",
       "      <th></th>\n",
       "      <th></th>\n",
       "      <th></th>\n",
       "      <th></th>\n",
       "      <th></th>\n",
       "      <th></th>\n",
       "      <th></th>\n",
       "      <th></th>\n",
       "      <th></th>\n",
       "    </tr>\n",
       "  </thead>\n",
       "  <tbody>\n",
       "    <tr>\n",
       "      <th>01</th>\n",
       "      <td>441.833333</td>\n",
       "      <td>473.333333</td>\n",
       "      <td>439.333333</td>\n",
       "      <td>1354.500000</td>\n",
       "      <td>116.681090</td>\n",
       "      <td>173.019231</td>\n",
       "      <td>135.800000</td>\n",
       "      <td>93.500000</td>\n",
       "      <td>1.0</td>\n",
       "      <td>115.244241</td>\n",
       "      <td>...</td>\n",
       "      <td>12.0</td>\n",
       "      <td>10003.166667</td>\n",
       "      <td>659.500000</td>\n",
       "      <td>1.333333</td>\n",
       "      <td>0.0</td>\n",
       "      <td>0.0</td>\n",
       "      <td>0.0</td>\n",
       "      <td>40.719022</td>\n",
       "      <td>-73.982377</td>\n",
       "      <td>7.356204</td>\n",
       "    </tr>\n",
       "    <tr>\n",
       "      <th>02</th>\n",
       "      <td>426.619092</td>\n",
       "      <td>444.186256</td>\n",
       "      <td>424.832836</td>\n",
       "      <td>1295.638184</td>\n",
       "      <td>128.908454</td>\n",
       "      <td>201.516827</td>\n",
       "      <td>157.495833</td>\n",
       "      <td>158.647849</td>\n",
       "      <td>2.0</td>\n",
       "      <td>149.818949</td>\n",
       "      <td>...</td>\n",
       "      <td>12.0</td>\n",
       "      <td>10023.770833</td>\n",
       "      <td>621.395833</td>\n",
       "      <td>1.416667</td>\n",
       "      <td>0.0</td>\n",
       "      <td>0.0</td>\n",
       "      <td>0.0</td>\n",
       "      <td>40.739699</td>\n",
       "      <td>-73.991386</td>\n",
       "      <td>7.522998</td>\n",
       "    </tr>\n",
       "    <tr>\n",
       "      <th>03</th>\n",
       "      <td>428.529851</td>\n",
       "      <td>437.997512</td>\n",
       "      <td>426.915672</td>\n",
       "      <td>1293.443035</td>\n",
       "      <td>156.183494</td>\n",
       "      <td>244.522436</td>\n",
       "      <td>193.087500</td>\n",
       "      <td>183.384409</td>\n",
       "      <td>3.0</td>\n",
       "      <td>156.005994</td>\n",
       "      <td>...</td>\n",
       "      <td>12.0</td>\n",
       "      <td>10023.750000</td>\n",
       "      <td>717.916667</td>\n",
       "      <td>2.000000</td>\n",
       "      <td>0.0</td>\n",
       "      <td>0.0</td>\n",
       "      <td>0.0</td>\n",
       "      <td>40.781574</td>\n",
       "      <td>-73.977370</td>\n",
       "      <td>7.236111</td>\n",
       "    </tr>\n",
       "  </tbody>\n",
       "</table>\n",
       "<p>3 rows × 68 columns</p>\n",
       "</div>"
      ],
      "text/plain": [
       "             SAT Critical Reading Avg. Score  SAT Math Avg. Score  \\\n",
       "school_dist                                                         \n",
       "01                                441.833333           473.333333   \n",
       "02                                426.619092           444.186256   \n",
       "03                                428.529851           437.997512   \n",
       "\n",
       "             SAT Writing Avg. Score    sat_score  AP Test Takers   \\\n",
       "school_dist                                                         \n",
       "01                       439.333333  1354.500000       116.681090   \n",
       "02                       424.832836  1295.638184       128.908454   \n",
       "03                       426.915672  1293.443035       156.183494   \n",
       "\n",
       "             Total Exams Taken  Number of Exams with scores 3 4 or 5  \\\n",
       "school_dist                                                            \n",
       "01                  173.019231                            135.800000   \n",
       "02                  201.516827                            157.495833   \n",
       "03                  244.522436                            193.087500   \n",
       "\n",
       "             Total Cohort  CSD  NUMBER OF STUDENTS / SEATS FILLED     ...      \\\n",
       "school_dist                                                           ...       \n",
       "01              93.500000  1.0                         115.244241     ...       \n",
       "02             158.647849  2.0                         149.818949     ...       \n",
       "03             183.384409  3.0                         156.005994     ...       \n",
       "\n",
       "             expgrade_span_max           zip  total_students  number_programs  \\\n",
       "school_dist                                                                     \n",
       "01                        12.0  10003.166667      659.500000         1.333333   \n",
       "02                        12.0  10023.770833      621.395833         1.416667   \n",
       "03                        12.0  10023.750000      717.916667         2.000000   \n",
       "\n",
       "             priority08  priority09  priority10        lat        lon  \\\n",
       "school_dist                                                             \n",
       "01                  0.0         0.0         0.0  40.719022 -73.982377   \n",
       "02                  0.0         0.0         0.0  40.739699 -73.991386   \n",
       "03                  0.0         0.0         0.0  40.781574 -73.977370   \n",
       "\n",
       "             saf_avg_11  \n",
       "school_dist              \n",
       "01             7.356204  \n",
       "02             7.522998  \n",
       "03             7.236111  \n",
       "\n",
       "[3 rows x 68 columns]"
      ]
     },
     "execution_count": 28,
     "metadata": {},
     "output_type": "execute_result"
    }
   ],
   "source": [
    "districts.head(3)"
   ]
  },
  {
   "cell_type": "code",
   "execution_count": 29,
   "metadata": {
    "collapsed": false
   },
   "outputs": [],
   "source": [
    "districts.reset_index(inplace = True)"
   ]
  },
  {
   "cell_type": "code",
   "execution_count": 30,
   "metadata": {
    "collapsed": false
   },
   "outputs": [
    {
     "data": {
      "text/html": [
       "<div>\n",
       "<table border=\"1\" class=\"dataframe\">\n",
       "  <thead>\n",
       "    <tr style=\"text-align: right;\">\n",
       "      <th></th>\n",
       "      <th>school_dist</th>\n",
       "      <th>SAT Critical Reading Avg. Score</th>\n",
       "      <th>SAT Math Avg. Score</th>\n",
       "      <th>SAT Writing Avg. Score</th>\n",
       "      <th>sat_score</th>\n",
       "      <th>AP Test Takers</th>\n",
       "      <th>Total Exams Taken</th>\n",
       "      <th>Number of Exams with scores 3 4 or 5</th>\n",
       "      <th>Total Cohort</th>\n",
       "      <th>CSD</th>\n",
       "      <th>...</th>\n",
       "      <th>expgrade_span_max</th>\n",
       "      <th>zip</th>\n",
       "      <th>total_students</th>\n",
       "      <th>number_programs</th>\n",
       "      <th>priority08</th>\n",
       "      <th>priority09</th>\n",
       "      <th>priority10</th>\n",
       "      <th>lat</th>\n",
       "      <th>lon</th>\n",
       "      <th>saf_avg_11</th>\n",
       "    </tr>\n",
       "  </thead>\n",
       "  <tbody>\n",
       "    <tr>\n",
       "      <th>0</th>\n",
       "      <td>01</td>\n",
       "      <td>441.833333</td>\n",
       "      <td>473.333333</td>\n",
       "      <td>439.333333</td>\n",
       "      <td>1354.500000</td>\n",
       "      <td>116.681090</td>\n",
       "      <td>173.019231</td>\n",
       "      <td>135.800000</td>\n",
       "      <td>93.500000</td>\n",
       "      <td>1.0</td>\n",
       "      <td>...</td>\n",
       "      <td>12.0</td>\n",
       "      <td>10003.166667</td>\n",
       "      <td>659.500000</td>\n",
       "      <td>1.333333</td>\n",
       "      <td>0.0</td>\n",
       "      <td>0.0</td>\n",
       "      <td>0.0</td>\n",
       "      <td>40.719022</td>\n",
       "      <td>-73.982377</td>\n",
       "      <td>7.356204</td>\n",
       "    </tr>\n",
       "    <tr>\n",
       "      <th>1</th>\n",
       "      <td>02</td>\n",
       "      <td>426.619092</td>\n",
       "      <td>444.186256</td>\n",
       "      <td>424.832836</td>\n",
       "      <td>1295.638184</td>\n",
       "      <td>128.908454</td>\n",
       "      <td>201.516827</td>\n",
       "      <td>157.495833</td>\n",
       "      <td>158.647849</td>\n",
       "      <td>2.0</td>\n",
       "      <td>...</td>\n",
       "      <td>12.0</td>\n",
       "      <td>10023.770833</td>\n",
       "      <td>621.395833</td>\n",
       "      <td>1.416667</td>\n",
       "      <td>0.0</td>\n",
       "      <td>0.0</td>\n",
       "      <td>0.0</td>\n",
       "      <td>40.739699</td>\n",
       "      <td>-73.991386</td>\n",
       "      <td>7.522998</td>\n",
       "    </tr>\n",
       "    <tr>\n",
       "      <th>2</th>\n",
       "      <td>03</td>\n",
       "      <td>428.529851</td>\n",
       "      <td>437.997512</td>\n",
       "      <td>426.915672</td>\n",
       "      <td>1293.443035</td>\n",
       "      <td>156.183494</td>\n",
       "      <td>244.522436</td>\n",
       "      <td>193.087500</td>\n",
       "      <td>183.384409</td>\n",
       "      <td>3.0</td>\n",
       "      <td>...</td>\n",
       "      <td>12.0</td>\n",
       "      <td>10023.750000</td>\n",
       "      <td>717.916667</td>\n",
       "      <td>2.000000</td>\n",
       "      <td>0.0</td>\n",
       "      <td>0.0</td>\n",
       "      <td>0.0</td>\n",
       "      <td>40.781574</td>\n",
       "      <td>-73.977370</td>\n",
       "      <td>7.236111</td>\n",
       "    </tr>\n",
       "  </tbody>\n",
       "</table>\n",
       "<p>3 rows × 69 columns</p>\n",
       "</div>"
      ],
      "text/plain": [
       "  school_dist  SAT Critical Reading Avg. Score  SAT Math Avg. Score  \\\n",
       "0          01                       441.833333           473.333333   \n",
       "1          02                       426.619092           444.186256   \n",
       "2          03                       428.529851           437.997512   \n",
       "\n",
       "   SAT Writing Avg. Score    sat_score  AP Test Takers   Total Exams Taken  \\\n",
       "0              439.333333  1354.500000       116.681090         173.019231   \n",
       "1              424.832836  1295.638184       128.908454         201.516827   \n",
       "2              426.915672  1293.443035       156.183494         244.522436   \n",
       "\n",
       "   Number of Exams with scores 3 4 or 5  Total Cohort  CSD     ...      \\\n",
       "0                            135.800000     93.500000  1.0     ...       \n",
       "1                            157.495833    158.647849  2.0     ...       \n",
       "2                            193.087500    183.384409  3.0     ...       \n",
       "\n",
       "   expgrade_span_max           zip  total_students  number_programs  \\\n",
       "0               12.0  10003.166667      659.500000         1.333333   \n",
       "1               12.0  10023.770833      621.395833         1.416667   \n",
       "2               12.0  10023.750000      717.916667         2.000000   \n",
       "\n",
       "   priority08  priority09  priority10        lat        lon  saf_avg_11  \n",
       "0         0.0         0.0         0.0  40.719022 -73.982377    7.356204  \n",
       "1         0.0         0.0         0.0  40.739699 -73.991386    7.522998  \n",
       "2         0.0         0.0         0.0  40.781574 -73.977370    7.236111  \n",
       "\n",
       "[3 rows x 69 columns]"
      ]
     },
     "execution_count": 30,
     "metadata": {},
     "output_type": "execute_result"
    }
   ],
   "source": [
    "districts.head(3)"
   ]
  },
  {
   "cell_type": "code",
   "execution_count": 31,
   "metadata": {
    "collapsed": false
   },
   "outputs": [
    {
     "data": {
      "text/html": [
       "<div>\n",
       "<table border=\"1\" class=\"dataframe\">\n",
       "  <thead>\n",
       "    <tr style=\"text-align: right;\">\n",
       "      <th></th>\n",
       "      <th>SAT Critical Reading Avg. Score</th>\n",
       "      <th>SAT Math Avg. Score</th>\n",
       "      <th>SAT Writing Avg. Score</th>\n",
       "      <th>sat_score</th>\n",
       "      <th>AP Test Takers</th>\n",
       "      <th>Total Exams Taken</th>\n",
       "      <th>Number of Exams with scores 3 4 or 5</th>\n",
       "      <th>Total Cohort</th>\n",
       "      <th>CSD</th>\n",
       "      <th>NUMBER OF STUDENTS / SEATS FILLED</th>\n",
       "      <th>...</th>\n",
       "      <th>expgrade_span_max</th>\n",
       "      <th>zip</th>\n",
       "      <th>total_students</th>\n",
       "      <th>number_programs</th>\n",
       "      <th>priority08</th>\n",
       "      <th>priority09</th>\n",
       "      <th>priority10</th>\n",
       "      <th>lat</th>\n",
       "      <th>lon</th>\n",
       "      <th>saf_avg_11</th>\n",
       "    </tr>\n",
       "  </thead>\n",
       "  <tbody>\n",
       "    <tr>\n",
       "      <th>count</th>\n",
       "      <td>32.000000</td>\n",
       "      <td>32.000000</td>\n",
       "      <td>32.000000</td>\n",
       "      <td>32.000000</td>\n",
       "      <td>32.000000</td>\n",
       "      <td>32.000000</td>\n",
       "      <td>32.000000</td>\n",
       "      <td>32.000000</td>\n",
       "      <td>32.000000</td>\n",
       "      <td>32.000000</td>\n",
       "      <td>...</td>\n",
       "      <td>32.0</td>\n",
       "      <td>32.000000</td>\n",
       "      <td>32.000000</td>\n",
       "      <td>32.000000</td>\n",
       "      <td>32.0</td>\n",
       "      <td>32.0</td>\n",
       "      <td>32.0</td>\n",
       "      <td>32.000000</td>\n",
       "      <td>32.000000</td>\n",
       "      <td>32.000000</td>\n",
       "    </tr>\n",
       "    <tr>\n",
       "      <th>mean</th>\n",
       "      <td>404.860496</td>\n",
       "      <td>422.458600</td>\n",
       "      <td>400.320914</td>\n",
       "      <td>1227.640010</td>\n",
       "      <td>138.633066</td>\n",
       "      <td>210.172031</td>\n",
       "      <td>160.903991</td>\n",
       "      <td>223.991434</td>\n",
       "      <td>16.500000</td>\n",
       "      <td>192.799961</td>\n",
       "      <td>...</td>\n",
       "      <td>12.0</td>\n",
       "      <td>10852.590993</td>\n",
       "      <td>882.770004</td>\n",
       "      <td>1.959172</td>\n",
       "      <td>0.0</td>\n",
       "      <td>0.0</td>\n",
       "      <td>0.0</td>\n",
       "      <td>40.728794</td>\n",
       "      <td>-73.918258</td>\n",
       "      <td>7.282910</td>\n",
       "    </tr>\n",
       "    <tr>\n",
       "      <th>std</th>\n",
       "      <td>28.862200</td>\n",
       "      <td>37.648049</td>\n",
       "      <td>29.953385</td>\n",
       "      <td>95.260356</td>\n",
       "      <td>85.149677</td>\n",
       "      <td>135.427289</td>\n",
       "      <td>72.300531</td>\n",
       "      <td>172.845575</td>\n",
       "      <td>9.380832</td>\n",
       "      <td>124.144097</td>\n",
       "      <td>...</td>\n",
       "      <td>0.0</td>\n",
       "      <td>532.636128</td>\n",
       "      <td>632.053589</td>\n",
       "      <td>0.988563</td>\n",
       "      <td>0.0</td>\n",
       "      <td>0.0</td>\n",
       "      <td>0.0</td>\n",
       "      <td>0.081391</td>\n",
       "      <td>0.075965</td>\n",
       "      <td>0.322172</td>\n",
       "    </tr>\n",
       "    <tr>\n",
       "      <th>min</th>\n",
       "      <td>364.769900</td>\n",
       "      <td>373.090909</td>\n",
       "      <td>357.943781</td>\n",
       "      <td>1101.823134</td>\n",
       "      <td>29.000000</td>\n",
       "      <td>31.000000</td>\n",
       "      <td>83.558333</td>\n",
       "      <td>72.771261</td>\n",
       "      <td>1.000000</td>\n",
       "      <td>72.209438</td>\n",
       "      <td>...</td>\n",
       "      <td>12.0</td>\n",
       "      <td>10003.166667</td>\n",
       "      <td>344.000000</td>\n",
       "      <td>1.000000</td>\n",
       "      <td>0.0</td>\n",
       "      <td>0.0</td>\n",
       "      <td>0.0</td>\n",
       "      <td>40.593596</td>\n",
       "      <td>-74.125726</td>\n",
       "      <td>6.333333</td>\n",
       "    </tr>\n",
       "    <tr>\n",
       "      <th>25%</th>\n",
       "      <td>381.675622</td>\n",
       "      <td>394.417857</td>\n",
       "      <td>377.977001</td>\n",
       "      <td>1159.082180</td>\n",
       "      <td>85.245261</td>\n",
       "      <td>124.198077</td>\n",
       "      <td>115.161538</td>\n",
       "      <td>111.877880</td>\n",
       "      <td>8.750000</td>\n",
       "      <td>118.895882</td>\n",
       "      <td>...</td>\n",
       "      <td>12.0</td>\n",
       "      <td>10455.248077</td>\n",
       "      <td>472.055288</td>\n",
       "      <td>1.293182</td>\n",
       "      <td>0.0</td>\n",
       "      <td>0.0</td>\n",
       "      <td>0.0</td>\n",
       "      <td>40.674126</td>\n",
       "      <td>-73.960981</td>\n",
       "      <td>7.088095</td>\n",
       "    </tr>\n",
       "    <tr>\n",
       "      <th>50%</th>\n",
       "      <td>399.039979</td>\n",
       "      <td>417.142857</td>\n",
       "      <td>392.297927</td>\n",
       "      <td>1214.269946</td>\n",
       "      <td>117.530230</td>\n",
       "      <td>170.520105</td>\n",
       "      <td>147.883766</td>\n",
       "      <td>159.983016</td>\n",
       "      <td>16.500000</td>\n",
       "      <td>137.374514</td>\n",
       "      <td>...</td>\n",
       "      <td>12.0</td>\n",
       "      <td>11207.326923</td>\n",
       "      <td>615.626488</td>\n",
       "      <td>1.654762</td>\n",
       "      <td>0.0</td>\n",
       "      <td>0.0</td>\n",
       "      <td>0.0</td>\n",
       "      <td>40.715311</td>\n",
       "      <td>-73.924829</td>\n",
       "      <td>7.275583</td>\n",
       "    </tr>\n",
       "    <tr>\n",
       "      <th>75%</th>\n",
       "      <td>427.502399</td>\n",
       "      <td>449.572528</td>\n",
       "      <td>425.353545</td>\n",
       "      <td>1293.991822</td>\n",
       "      <td>156.445580</td>\n",
       "      <td>246.422810</td>\n",
       "      <td>174.929403</td>\n",
       "      <td>270.388380</td>\n",
       "      <td>24.250000</td>\n",
       "      <td>230.858376</td>\n",
       "      <td>...</td>\n",
       "      <td>12.0</td>\n",
       "      <td>11221.500000</td>\n",
       "      <td>1078.568182</td>\n",
       "      <td>2.235577</td>\n",
       "      <td>0.0</td>\n",
       "      <td>0.0</td>\n",
       "      <td>0.0</td>\n",
       "      <td>40.799290</td>\n",
       "      <td>-73.885749</td>\n",
       "      <td>7.523498</td>\n",
       "    </tr>\n",
       "    <tr>\n",
       "      <th>max</th>\n",
       "      <td>473.500000</td>\n",
       "      <td>502.750000</td>\n",
       "      <td>474.250000</td>\n",
       "      <td>1450.500000</td>\n",
       "      <td>410.605769</td>\n",
       "      <td>632.407692</td>\n",
       "      <td>392.090000</td>\n",
       "      <td>825.600000</td>\n",
       "      <td>32.000000</td>\n",
       "      <td>595.953216</td>\n",
       "      <td>...</td>\n",
       "      <td>12.0</td>\n",
       "      <td>11556.300000</td>\n",
       "      <td>2837.400000</td>\n",
       "      <td>5.000000</td>\n",
       "      <td>0.0</td>\n",
       "      <td>0.0</td>\n",
       "      <td>0.0</td>\n",
       "      <td>40.873138</td>\n",
       "      <td>-73.752740</td>\n",
       "      <td>7.833333</td>\n",
       "    </tr>\n",
       "  </tbody>\n",
       "</table>\n",
       "<p>8 rows × 68 columns</p>\n",
       "</div>"
      ],
      "text/plain": [
       "       SAT Critical Reading Avg. Score  SAT Math Avg. Score  \\\n",
       "count                        32.000000            32.000000   \n",
       "mean                        404.860496           422.458600   \n",
       "std                          28.862200            37.648049   \n",
       "min                         364.769900           373.090909   \n",
       "25%                         381.675622           394.417857   \n",
       "50%                         399.039979           417.142857   \n",
       "75%                         427.502399           449.572528   \n",
       "max                         473.500000           502.750000   \n",
       "\n",
       "       SAT Writing Avg. Score    sat_score  AP Test Takers   \\\n",
       "count               32.000000    32.000000        32.000000   \n",
       "mean               400.320914  1227.640010       138.633066   \n",
       "std                 29.953385    95.260356        85.149677   \n",
       "min                357.943781  1101.823134        29.000000   \n",
       "25%                377.977001  1159.082180        85.245261   \n",
       "50%                392.297927  1214.269946       117.530230   \n",
       "75%                425.353545  1293.991822       156.445580   \n",
       "max                474.250000  1450.500000       410.605769   \n",
       "\n",
       "       Total Exams Taken  Number of Exams with scores 3 4 or 5  Total Cohort  \\\n",
       "count          32.000000                             32.000000     32.000000   \n",
       "mean          210.172031                            160.903991    223.991434   \n",
       "std           135.427289                             72.300531    172.845575   \n",
       "min            31.000000                             83.558333     72.771261   \n",
       "25%           124.198077                            115.161538    111.877880   \n",
       "50%           170.520105                            147.883766    159.983016   \n",
       "75%           246.422810                            174.929403    270.388380   \n",
       "max           632.407692                            392.090000    825.600000   \n",
       "\n",
       "             CSD  NUMBER OF STUDENTS / SEATS FILLED     ...      \\\n",
       "count  32.000000                          32.000000     ...       \n",
       "mean   16.500000                         192.799961     ...       \n",
       "std     9.380832                         124.144097     ...       \n",
       "min     1.000000                          72.209438     ...       \n",
       "25%     8.750000                         118.895882     ...       \n",
       "50%    16.500000                         137.374514     ...       \n",
       "75%    24.250000                         230.858376     ...       \n",
       "max    32.000000                         595.953216     ...       \n",
       "\n",
       "       expgrade_span_max           zip  total_students  number_programs  \\\n",
       "count               32.0     32.000000       32.000000        32.000000   \n",
       "mean                12.0  10852.590993      882.770004         1.959172   \n",
       "std                  0.0    532.636128      632.053589         0.988563   \n",
       "min                 12.0  10003.166667      344.000000         1.000000   \n",
       "25%                 12.0  10455.248077      472.055288         1.293182   \n",
       "50%                 12.0  11207.326923      615.626488         1.654762   \n",
       "75%                 12.0  11221.500000     1078.568182         2.235577   \n",
       "max                 12.0  11556.300000     2837.400000         5.000000   \n",
       "\n",
       "       priority08  priority09  priority10        lat        lon  saf_avg_11  \n",
       "count        32.0        32.0        32.0  32.000000  32.000000   32.000000  \n",
       "mean          0.0         0.0         0.0  40.728794 -73.918258    7.282910  \n",
       "std           0.0         0.0         0.0   0.081391   0.075965    0.322172  \n",
       "min           0.0         0.0         0.0  40.593596 -74.125726    6.333333  \n",
       "25%           0.0         0.0         0.0  40.674126 -73.960981    7.088095  \n",
       "50%           0.0         0.0         0.0  40.715311 -73.924829    7.275583  \n",
       "75%           0.0         0.0         0.0  40.799290 -73.885749    7.523498  \n",
       "max           0.0         0.0         0.0  40.873138 -73.752740    7.833333  \n",
       "\n",
       "[8 rows x 68 columns]"
      ]
     },
     "execution_count": 31,
     "metadata": {},
     "output_type": "execute_result"
    }
   ],
   "source": [
    "districts.describe()"
   ]
  },
  {
   "cell_type": "code",
   "execution_count": 32,
   "metadata": {
    "collapsed": false
   },
   "outputs": [
    {
     "data": {
      "text/plain": [
       "<matplotlib.axes._subplots.AxesSubplot at 0x7f40d3d62be0>"
      ]
     },
     "execution_count": 32,
     "metadata": {},
     "output_type": "execute_result"
    },
    {
     "data": {
      "image/png": "[encoded data removed]",
      "text/plain": [
       "<matplotlib.figure.Figure at 0x7f40d3e2b198>"
      ]
     },
     "metadata": {},
     "output_type": "display_data"
    }
   ],
   "source": [
    "districts.plot.bar(x = 'school_dist', y = 'sat_score')"
   ]
  },
  {
   "cell_type": "markdown",
   "metadata": {},
   "source": [
    "Districts 31 and 22 seem to have the highest mean SAT scores. Let's explore these two a bit more"
   ]
  },
  {
   "cell_type": "code",
   "execution_count": 33,
   "metadata": {
    "collapsed": false
   },
   "outputs": [
    {
     "name": "stdout",
     "output_type": "stream",
     "text": [
      "30    22.17\n",
      "Name: hispanic_per, dtype: float64\n",
      "30    18.27\n",
      "Name: black_per, dtype: float64\n",
      "30    10.3\n",
      "Name: asian_per, dtype: float64\n",
      "30    47.91\n",
      "Name: female_per, dtype: float64\n",
      "30    450.787097\n",
      "Name: Total Cohort, dtype: float64\n"
     ]
    }
   ],
   "source": [
    "district_31 = districts[districts['school_dist'] == '31']\n",
    "\n",
    "print(district_31['hispanic_per']) # Percentage Hispanic kids\n",
    "print(district_31['black_per']) # Percentage of Black kids\n",
    "print(district_31['asian_per']) # Percentage of Black kids\n",
    "print(district_31['female_per']) # Percentage of girls\n",
    "print(district_31['Total Cohort']) # Class size"
   ]
  },
  {
   "cell_type": "code",
   "execution_count": 34,
   "metadata": {
    "collapsed": false
   },
   "outputs": [
    {
     "name": "stdout",
     "output_type": "stream",
     "text": [
      "21    12.35\n",
      "Name: hispanic_per, dtype: float64\n",
      "21    35.1\n",
      "Name: black_per, dtype: float64\n",
      "21    17.975\n",
      "Name: asian_per, dtype: float64\n",
      "21    55.7\n",
      "Name: female_per, dtype: float64\n",
      "21    580.25\n",
      "Name: Total Cohort, dtype: float64\n"
     ]
    }
   ],
   "source": [
    "district_22 = districts[districts['school_dist'] == '22']\n",
    "\n",
    "print(district_22['hispanic_per'])\n",
    "print(district_22['black_per']) \n",
    "print(district_22['asian_per']) # Percentage of Black kids\n",
    "print(district_22['female_per'])\n",
    "print(district_22['Total Cohort'])"
   ]
  },
  {
   "cell_type": "markdown",
   "metadata": {},
   "source": [
    "The top 2 schools have excellent representation of girls and other racial backgrounds. Let's see if this extends to the top 5 districts! "
   ]
  },
  {
   "cell_type": "code",
   "execution_count": 35,
   "metadata": {
    "collapsed": false
   },
   "outputs": [
    {
     "data": {
      "text/plain": [
       "51.167999999999999"
      ]
     },
     "execution_count": 35,
     "metadata": {},
     "output_type": "execute_result"
    }
   ],
   "source": [
    "#We calculate the mean percentage of girls in top 5 districts\n",
    "\n",
    "top_districts = districts.sort_values(by = 'sat_score', ascending = False)\n",
    "top_districts = top_districts.iloc[0:5]\n",
    "top_districts['female_per'].mean()"
   ]
  },
  {
   "cell_type": "markdown",
   "metadata": {},
   "source": [
    "Wow! The best performing schools have nearly an equal number of boys and girls. Great going!\n",
    "Now let's analyze the racial diversity in these schools. To do that, we'll make a separate column that adds up the percentages of Asians, Blacks, and Hispanics in these districts."
   ]
  },
  {
   "cell_type": "code",
   "execution_count": 36,
   "metadata": {
    "collapsed": false
   },
   "outputs": [
    {
     "data": {
      "text/plain": [
       "73.117666666666665"
      ]
     },
     "execution_count": 36,
     "metadata": {},
     "output_type": "execute_result"
    }
   ],
   "source": [
    "top_districts['racial_per'] = top_districts['black_per'] + top_districts['asian_per'] + top_districts['hispanic_per']\n",
    "top_districts['racial_per'].mean()"
   ]
  },
  {
   "cell_type": "markdown",
   "metadata": {},
   "source": [
    "Another excellent bit of news. The best performing schools have huge racial diversities. This indicates that, while heavily Hispanic/Black schools perform poorly, in a mixed environment, performance improves [As should be the case. A variety of people helping each other out!]"
   ]
  },
  {
   "cell_type": "code",
   "execution_count": 37,
   "metadata": {
    "collapsed": false
   },
   "outputs": [
    {
     "name": "stdout",
     "output_type": "stream",
     "text": [
      "0.325144024007\n"
     ]
    },
    {
     "data": {
      "image/png": "[encoded data removed]",
      "text/plain": [
       "<matplotlib.figure.Figure at 0x7f40d3d1d978>"
      ]
     },
     "metadata": {},
     "output_type": "display_data"
    }
   ],
   "source": [
    "combined.plot.scatter(x = 'Total Cohort', y = 'sat_score')\n",
    "print(combined.corr()['sat_score']['Total Cohort'])"
   ]
  },
  {
   "cell_type": "markdown",
   "metadata": {},
   "source": [
    "1. We find a weak but positive correlation between SATs and class sizes, but certainly not a significant relationship.\n",
    "\n",
    "2. However, one observation is that once that class sizes grow in number, scores tend to rise a bit more significantly. This rise is much more significant in the range of class sizes of 600-1400 than in the lower ranges.\n",
    "\n",
    "3. Having said that, there are quite a few high scores in smaller classes [0 - 200]"
   ]
  },
  {
   "cell_type": "code",
   "execution_count": 38,
   "metadata": {
    "collapsed": false
   },
   "outputs": [
    {
     "data": {
      "text/html": [
       "<div>\n",
       "<table border=\"1\" class=\"dataframe\">\n",
       "  <thead>\n",
       "    <tr style=\"text-align: right;\">\n",
       "      <th></th>\n",
       "      <th>DBN</th>\n",
       "      <th>SCHOOL NAME</th>\n",
       "      <th>Num of SAT Test Takers</th>\n",
       "      <th>SAT Critical Reading Avg. Score</th>\n",
       "      <th>SAT Math Avg. Score</th>\n",
       "      <th>SAT Writing Avg. Score</th>\n",
       "      <th>sat_score</th>\n",
       "      <th>SchoolName</th>\n",
       "      <th>AP Test Takers</th>\n",
       "      <th>Total Exams Taken</th>\n",
       "      <th>...</th>\n",
       "      <th>priority07</th>\n",
       "      <th>priority08</th>\n",
       "      <th>priority09</th>\n",
       "      <th>priority10</th>\n",
       "      <th>Location 1</th>\n",
       "      <th>lat</th>\n",
       "      <th>lon</th>\n",
       "      <th>school_dist</th>\n",
       "      <th>saf_avg_11</th>\n",
       "      <th>ap_per</th>\n",
       "    </tr>\n",
       "  </thead>\n",
       "  <tbody>\n",
       "    <tr>\n",
       "      <th>0</th>\n",
       "      <td>01M292</td>\n",
       "      <td>HENRY STREET SCHOOL FOR INTERNATIONAL STUDIES</td>\n",
       "      <td>29</td>\n",
       "      <td>355.0</td>\n",
       "      <td>404.0</td>\n",
       "      <td>363.0</td>\n",
       "      <td>1122.0</td>\n",
       "      <td>0</td>\n",
       "      <td>129.028846</td>\n",
       "      <td>197.038462</td>\n",
       "      <td>...</td>\n",
       "      <td>0</td>\n",
       "      <td>0</td>\n",
       "      <td>0</td>\n",
       "      <td>0</td>\n",
       "      <td>220 Henry Street\\nNew York, NY 10002\\n(40.7137...</td>\n",
       "      <td>40.713764</td>\n",
       "      <td>-73.985260</td>\n",
       "      <td>01</td>\n",
       "      <td>6.700000</td>\n",
       "      <td>30.575556</td>\n",
       "    </tr>\n",
       "    <tr>\n",
       "      <th>1</th>\n",
       "      <td>01M448</td>\n",
       "      <td>UNIVERSITY NEIGHBORHOOD HIGH SCHOOL</td>\n",
       "      <td>91</td>\n",
       "      <td>383.0</td>\n",
       "      <td>423.0</td>\n",
       "      <td>366.0</td>\n",
       "      <td>1172.0</td>\n",
       "      <td>UNIVERSITY NEIGHBORHOOD H.S.</td>\n",
       "      <td>39.000000</td>\n",
       "      <td>49.000000</td>\n",
       "      <td>...</td>\n",
       "      <td>0</td>\n",
       "      <td>0</td>\n",
       "      <td>0</td>\n",
       "      <td>0</td>\n",
       "      <td>200 Monroe Street\\nNew York, NY 10002\\n(40.712...</td>\n",
       "      <td>40.712332</td>\n",
       "      <td>-73.984797</td>\n",
       "      <td>01</td>\n",
       "      <td>6.833333</td>\n",
       "      <td>9.898477</td>\n",
       "    </tr>\n",
       "    <tr>\n",
       "      <th>2</th>\n",
       "      <td>01M450</td>\n",
       "      <td>EAST SIDE COMMUNITY SCHOOL</td>\n",
       "      <td>70</td>\n",
       "      <td>377.0</td>\n",
       "      <td>402.0</td>\n",
       "      <td>370.0</td>\n",
       "      <td>1149.0</td>\n",
       "      <td>EAST SIDE COMMUNITY HS</td>\n",
       "      <td>19.000000</td>\n",
       "      <td>21.000000</td>\n",
       "      <td>...</td>\n",
       "      <td>0</td>\n",
       "      <td>0</td>\n",
       "      <td>0</td>\n",
       "      <td>0</td>\n",
       "      <td>420 East 12 Street\\nNew York, NY 10009\\n(40.72...</td>\n",
       "      <td>40.729783</td>\n",
       "      <td>-73.983041</td>\n",
       "      <td>01</td>\n",
       "      <td>7.537222</td>\n",
       "      <td>3.177258</td>\n",
       "    </tr>\n",
       "  </tbody>\n",
       "</table>\n",
       "<p>3 rows × 162 columns</p>\n",
       "</div>"
      ],
      "text/plain": [
       "      DBN                                    SCHOOL NAME  \\\n",
       "0  01M292  HENRY STREET SCHOOL FOR INTERNATIONAL STUDIES   \n",
       "1  01M448            UNIVERSITY NEIGHBORHOOD HIGH SCHOOL   \n",
       "2  01M450                     EAST SIDE COMMUNITY SCHOOL   \n",
       "\n",
       "  Num of SAT Test Takers  SAT Critical Reading Avg. Score  \\\n",
       "0                     29                            355.0   \n",
       "1                     91                            383.0   \n",
       "2                     70                            377.0   \n",
       "\n",
       "   SAT Math Avg. Score  SAT Writing Avg. Score  sat_score  \\\n",
       "0                404.0                   363.0     1122.0   \n",
       "1                423.0                   366.0     1172.0   \n",
       "2                402.0                   370.0     1149.0   \n",
       "\n",
       "                     SchoolName  AP Test Takers   Total Exams Taken  \\\n",
       "0                             0       129.028846         197.038462   \n",
       "1  UNIVERSITY NEIGHBORHOOD H.S.        39.000000          49.000000   \n",
       "2        EAST SIDE COMMUNITY HS        19.000000          21.000000   \n",
       "\n",
       "     ...      priority07 priority08 priority09 priority10  \\\n",
       "0    ...               0          0          0          0   \n",
       "1    ...               0          0          0          0   \n",
       "2    ...               0          0          0          0   \n",
       "\n",
       "                                          Location 1        lat        lon  \\\n",
       "0  220 Henry Street\\nNew York, NY 10002\\n(40.7137...  40.713764 -73.985260   \n",
       "1  200 Monroe Street\\nNew York, NY 10002\\n(40.712...  40.712332 -73.984797   \n",
       "2  420 East 12 Street\\nNew York, NY 10009\\n(40.72...  40.729783 -73.983041   \n",
       "\n",
       "  school_dist saf_avg_11     ap_per  \n",
       "0          01   6.700000  30.575556  \n",
       "1          01   6.833333   9.898477  \n",
       "2          01   7.537222   3.177258  \n",
       "\n",
       "[3 rows x 162 columns]"
      ]
     },
     "execution_count": 38,
     "metadata": {},
     "output_type": "execute_result"
    }
   ],
   "source": [
    "combined.head(3)"
   ]
  },
  {
   "cell_type": "markdown",
   "metadata": {
    "collapsed": true
   },
   "source": [
    "As a final analysis, let's figure out the best area to live in if one is searching for schools in NYC. 3 metrics have been considered to be the most important:\n",
    "\n",
    "1. SAT scores. [Duh!]\n",
    "\n",
    "2. Safety: Since this has been found to be strongly correlated to performance, we will exclude it from our analysis.\n",
    "\n",
    "3. Gender inclusion: Since this metric hasn't been found to be strongly indicative of performance, we will exclude this too."
   ]
  },
  {
   "cell_type": "code",
   "execution_count": 39,
   "metadata": {
    "collapsed": false
   },
   "outputs": [
    {
     "data": {
      "text/plain": [
       "<matplotlib.collections.PathCollection at 0x7f40d343f278>"
      ]
     },
     "execution_count": 39,
     "metadata": {},
     "output_type": "execute_result"
    },
    {
     "data": {
      "image/png": "[encoded data removed]",
      "text/plain": [
       "<matplotlib.figure.Figure at 0x7f40d3c17e10>"
      ]
     },
     "metadata": {},
     "output_type": "display_data"
    }
   ],
   "source": [
    "area = Basemap(\n",
    "    projection='merc', \n",
    "    llcrnrlat=40.496044, \n",
    "    urcrnrlat=40.915256, \n",
    "    llcrnrlon=-74.255735, \n",
    "    urcrnrlon=-73.700272,\n",
    "    resolution='i'\n",
    ")\n",
    "\n",
    "area.drawmapboundary(fill_color='#85A6D9')\n",
    "area.drawcoastlines(color='#6D5F47', linewidth=.4)\n",
    "area.drawrivers(color='#6D5F47', linewidth=.4)\n",
    "\n",
    "longitudes = districts['lon'].tolist()\n",
    "latitudes = districts['lat'].tolist()\n",
    "\n",
    "area.scatter(longitudes, latitudes, s = 50, zorder = 2, latlon = True, cmap = 'summer', c = districts['sat_score'])"
   ]
  },
  {
   "cell_type": "markdown",
   "metadata": {},
   "source": [
    "1. Upper Manhattan and The Bronx would not be advised.\n",
    "\n",
    "2. Lower Manhattan can boast of decent schools. \n",
    "\n",
    "3. Brooklyn, though found the safest burrough, does not produce great results, with only 1 district shining. Lower Manhattan does not have incredible scores, but all scores are on average higher than Brooklyn.\n",
    "\n",
    "4. Staten Island has one district that shines, although that was the only district available in the data set. Therfore, not very informative.\n",
    "\n",
    "In short, Lower Manhattan would be advised, although choosing an area of course would depend on many more features like tuition, price of property, etc."
   ]
  },
  {
   "cell_type": "markdown",
   "metadata": {},
   "source": [
    "# Let us sum up our findings:\n",
    "\n",
    "1. Safer schools tend to produce better scores.\n",
    "\n",
    "2. Student expectations are quite strongly correlated with their actual SAT scores. \n",
    "\n",
    "3. Upper Manhattan seems to be the most unsafe. Staten Island, parts of Queens and The Bronx are unsafe too. Brooklyn seems to be the safest area.\n",
    "\n",
    "4. The top 5 districts have nearly an equal representation of boys and girls, and impressive representations of minorities [More than 60% on average]. This indicates the worse performing schools may need to evaluate how inclusive their curricula are, especially since heavily Hispanic schools tend to perform the worst on the SAT.\n",
    "\n",
    "5. Girl heavy schools [> 60% ratio] tend to perform better on the SAT. Boy heavy schools [> 70% ratio] tend to perform the worst. A girl-to-boy ratio of around 55-40 seems ideal.\n",
    "\n",
    "6. The AP scores are majorly independent of SAT scores.\n",
    "\n",
    "7. The best performing region has been found to be Lower Manhattan in terms of SAT scores. Brooklyn also does well."
   ]
  },
  {
   "cell_type": "code",
   "execution_count": null,
   "metadata": {
    "collapsed": true
   },
   "outputs": [],
   "source": []
  }
 ],
 "metadata": {
  "kernelspec": {
   "display_name": "Python 3",
   "language": "python",
   "name": "python3"
  },
  "language_info": {
   "codemirror_mode": {
    "name": "ipython",
    "version": 3
   },
   "file_extension": ".py",
   "mimetype": "text/x-python",
   "name": "python",
   "nbconvert_exporter": "python",
   "pygments_lexer": "ipython3",
   "version": "3.4.3"
  }
 },
 "nbformat": 4,
 "nbformat_minor": 0
}
